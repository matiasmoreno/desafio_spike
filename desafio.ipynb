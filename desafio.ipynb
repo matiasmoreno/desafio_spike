{
 "cells": [
  {
   "cell_type": "markdown",
   "id": "eaea065c",
   "metadata": {},
   "source": [
    "# Notebook para Desafio Spike Abril 2021\n",
    "### Autor: Matias Moreno\n",
    "### Mail: matias.moreno@sansano.usm.cl"
   ]
  },
  {
   "cell_type": "markdown",
   "id": "cad7a26f",
   "metadata": {},
   "source": [
    "# 1. Datos: Precipitaciones, Indicadores Económicos Banco Central \n",
    "* Cargar archivo precipitaciones.csv con las precipitaciones medias mensuales registradas entre enero 1979 y abril 2020. (Unidad: mm).\n",
    "* Cargar archivo banco_central.csv con variables económicas."
   ]
  },
  {
   "cell_type": "code",
   "execution_count": 3,
   "id": "b4a997f6",
   "metadata": {},
   "outputs": [],
   "source": [
    "# Common imports\n",
    "import pandas as pd\n",
    "import numpy as np\n",
    "import matplotlib.pyplot as plt"
   ]
  },
  {
   "cell_type": "code",
   "execution_count": 396,
   "id": "93a44802",
   "metadata": {},
   "outputs": [],
   "source": [
    "# Import data\n",
    "rain = pd.read_csv(\"data/precipitaciones.csv\")\n",
    "economy = pd.read_csv(\"data/banco_central.csv\")"
   ]
  },
  {
   "cell_type": "markdown",
   "id": "1bd4c127",
   "metadata": {},
   "source": [
    "# 2. Análisis de datos. Creación de variables\n",
    "## 2.a) Realiza un análisis exploratorio de la base de datos, ¿Qué puedes decir de los datos, sus distribuciones, valores faltantes, otros? ¿Hay algo que te llame la atención?"
   ]
  },
  {
   "cell_type": "markdown",
   "id": "e5376561",
   "metadata": {},
   "source": [
    "### Dataset Precipitaciones\n",
    "\n",
    "Primero vamos a analizar las columnas, tipos, valores y distribucion de los datos para el dataset de precipitaciones"
   ]
  },
  {
   "cell_type": "code",
   "execution_count": 397,
   "id": "6c495e54",
   "metadata": {},
   "outputs": [
    {
     "data": {
      "text/html": [
       "<div>\n",
       "<style scoped>\n",
       "    .dataframe tbody tr th:only-of-type {\n",
       "        vertical-align: middle;\n",
       "    }\n",
       "\n",
       "    .dataframe tbody tr th {\n",
       "        vertical-align: top;\n",
       "    }\n",
       "\n",
       "    .dataframe thead th {\n",
       "        text-align: right;\n",
       "    }\n",
       "</style>\n",
       "<table border=\"1\" class=\"dataframe\">\n",
       "  <thead>\n",
       "    <tr style=\"text-align: right;\">\n",
       "      <th></th>\n",
       "      <th>date</th>\n",
       "      <th>Coquimbo</th>\n",
       "      <th>Valparaiso</th>\n",
       "      <th>Metropolitana_de_Santiago</th>\n",
       "      <th>Libertador_Gral__Bernardo_O_Higgins</th>\n",
       "      <th>Maule</th>\n",
       "      <th>Biobio</th>\n",
       "      <th>La_Araucania</th>\n",
       "      <th>Los_Rios</th>\n",
       "    </tr>\n",
       "  </thead>\n",
       "  <tbody>\n",
       "    <tr>\n",
       "      <th>0</th>\n",
       "      <td>1989-02-01</td>\n",
       "      <td>0.719033</td>\n",
       "      <td>0.117045</td>\n",
       "      <td>0.028272</td>\n",
       "      <td>0.0</td>\n",
       "      <td>0.724667</td>\n",
       "      <td>9.172945</td>\n",
       "      <td>22.595834</td>\n",
       "      <td>52.268010</td>\n",
       "    </tr>\n",
       "    <tr>\n",
       "      <th>1</th>\n",
       "      <td>1998-10-01</td>\n",
       "      <td>0.065216</td>\n",
       "      <td>0.000000</td>\n",
       "      <td>0.011493</td>\n",
       "      <td>0.0</td>\n",
       "      <td>0.008968</td>\n",
       "      <td>2.089674</td>\n",
       "      <td>14.702087</td>\n",
       "      <td>45.142041</td>\n",
       "    </tr>\n",
       "    <tr>\n",
       "      <th>2</th>\n",
       "      <td>2001-02-01</td>\n",
       "      <td>2.030026</td>\n",
       "      <td>0.047987</td>\n",
       "      <td>0.002634</td>\n",
       "      <td>0.0</td>\n",
       "      <td>0.032163</td>\n",
       "      <td>10.768351</td>\n",
       "      <td>29.465057</td>\n",
       "      <td>65.571098</td>\n",
       "    </tr>\n",
       "    <tr>\n",
       "      <th>3</th>\n",
       "      <td>2008-11-01</td>\n",
       "      <td>0.622784</td>\n",
       "      <td>0.000000</td>\n",
       "      <td>0.015872</td>\n",
       "      <td>0.0</td>\n",
       "      <td>1.734168</td>\n",
       "      <td>25.083557</td>\n",
       "      <td>64.901645</td>\n",
       "      <td>113.093488</td>\n",
       "    </tr>\n",
       "    <tr>\n",
       "      <th>4</th>\n",
       "      <td>2009-04-01</td>\n",
       "      <td>0.008065</td>\n",
       "      <td>0.000000</td>\n",
       "      <td>0.009396</td>\n",
       "      <td>0.0</td>\n",
       "      <td>12.080715</td>\n",
       "      <td>56.233424</td>\n",
       "      <td>96.364235</td>\n",
       "      <td>155.622235</td>\n",
       "    </tr>\n",
       "  </tbody>\n",
       "</table>\n",
       "</div>"
      ],
      "text/plain": [
       "         date  Coquimbo  Valparaiso  Metropolitana_de_Santiago  \\\n",
       "0  1989-02-01  0.719033    0.117045                   0.028272   \n",
       "1  1998-10-01  0.065216    0.000000                   0.011493   \n",
       "2  2001-02-01  2.030026    0.047987                   0.002634   \n",
       "3  2008-11-01  0.622784    0.000000                   0.015872   \n",
       "4  2009-04-01  0.008065    0.000000                   0.009396   \n",
       "\n",
       "   Libertador_Gral__Bernardo_O_Higgins      Maule     Biobio  La_Araucania  \\\n",
       "0                                  0.0   0.724667   9.172945     22.595834   \n",
       "1                                  0.0   0.008968   2.089674     14.702087   \n",
       "2                                  0.0   0.032163  10.768351     29.465057   \n",
       "3                                  0.0   1.734168  25.083557     64.901645   \n",
       "4                                  0.0  12.080715  56.233424     96.364235   \n",
       "\n",
       "     Los_Rios  \n",
       "0   52.268010  \n",
       "1   45.142041  \n",
       "2   65.571098  \n",
       "3  113.093488  \n",
       "4  155.622235  "
      ]
     },
     "execution_count": 397,
     "metadata": {},
     "output_type": "execute_result"
    }
   ],
   "source": [
    "rain.head()"
   ]
  },
  {
   "cell_type": "code",
   "execution_count": 398,
   "id": "aa9681f0",
   "metadata": {},
   "outputs": [
    {
     "data": {
      "text/plain": [
       "date                                    object\n",
       "Coquimbo                               float64\n",
       "Valparaiso                             float64\n",
       "Metropolitana_de_Santiago              float64\n",
       "Libertador_Gral__Bernardo_O_Higgins    float64\n",
       "Maule                                  float64\n",
       "Biobio                                 float64\n",
       "La_Araucania                           float64\n",
       "Los_Rios                               float64\n",
       "dtype: object"
      ]
     },
     "execution_count": 398,
     "metadata": {},
     "output_type": "execute_result"
    }
   ],
   "source": [
    "rain.dtypes"
   ]
  },
  {
   "cell_type": "markdown",
   "id": "f48d6226",
   "metadata": {},
   "source": [
    "Se observa que todos los datos estan en flotantes, excepto las fechas, no se observa un orden particular de las filas"
   ]
  },
  {
   "cell_type": "code",
   "execution_count": 399,
   "id": "8998011f",
   "metadata": {},
   "outputs": [
    {
     "data": {
      "text/plain": [
       "date                                   0\n",
       "Coquimbo                               0\n",
       "Valparaiso                             0\n",
       "Metropolitana_de_Santiago              0\n",
       "Libertador_Gral__Bernardo_O_Higgins    0\n",
       "Maule                                  0\n",
       "Biobio                                 0\n",
       "La_Araucania                           0\n",
       "Los_Rios                               0\n",
       "dtype: int64"
      ]
     },
     "execution_count": 399,
     "metadata": {},
     "output_type": "execute_result"
    }
   ],
   "source": [
    "rain.isnull().sum()"
   ]
  },
  {
   "cell_type": "markdown",
   "id": "2ea0231d",
   "metadata": {},
   "source": [
    "No existen datos faltantes en el dataset de precipitaciones"
   ]
  },
  {
   "cell_type": "code",
   "execution_count": 400,
   "id": "53ff18c9",
   "metadata": {},
   "outputs": [
    {
     "data": {
      "text/html": [
       "<div>\n",
       "<style scoped>\n",
       "    .dataframe tbody tr th:only-of-type {\n",
       "        vertical-align: middle;\n",
       "    }\n",
       "\n",
       "    .dataframe tbody tr th {\n",
       "        vertical-align: top;\n",
       "    }\n",
       "\n",
       "    .dataframe thead th {\n",
       "        text-align: right;\n",
       "    }\n",
       "</style>\n",
       "<table border=\"1\" class=\"dataframe\">\n",
       "  <thead>\n",
       "    <tr style=\"text-align: right;\">\n",
       "      <th></th>\n",
       "      <th>Coquimbo</th>\n",
       "      <th>Valparaiso</th>\n",
       "      <th>Metropolitana_de_Santiago</th>\n",
       "      <th>Libertador_Gral__Bernardo_O_Higgins</th>\n",
       "      <th>Maule</th>\n",
       "      <th>Biobio</th>\n",
       "      <th>La_Araucania</th>\n",
       "      <th>Los_Rios</th>\n",
       "    </tr>\n",
       "  </thead>\n",
       "  <tbody>\n",
       "    <tr>\n",
       "      <th>count</th>\n",
       "      <td>496.000000</td>\n",
       "      <td>496.000000</td>\n",
       "      <td>496.000000</td>\n",
       "      <td>496.000000</td>\n",
       "      <td>496.000000</td>\n",
       "      <td>496.000000</td>\n",
       "      <td>496.000000</td>\n",
       "      <td>496.000000</td>\n",
       "    </tr>\n",
       "    <tr>\n",
       "      <th>mean</th>\n",
       "      <td>16.154691</td>\n",
       "      <td>32.450980</td>\n",
       "      <td>49.666682</td>\n",
       "      <td>72.249805</td>\n",
       "      <td>98.662773</td>\n",
       "      <td>128.113406</td>\n",
       "      <td>151.486456</td>\n",
       "      <td>199.451789</td>\n",
       "    </tr>\n",
       "    <tr>\n",
       "      <th>std</th>\n",
       "      <td>32.629286</td>\n",
       "      <td>55.434330</td>\n",
       "      <td>74.361099</td>\n",
       "      <td>101.426112</td>\n",
       "      <td>122.766771</td>\n",
       "      <td>130.056094</td>\n",
       "      <td>126.628503</td>\n",
       "      <td>140.073615</td>\n",
       "    </tr>\n",
       "    <tr>\n",
       "      <th>min</th>\n",
       "      <td>0.000000</td>\n",
       "      <td>0.000000</td>\n",
       "      <td>0.000000</td>\n",
       "      <td>0.000000</td>\n",
       "      <td>0.000000</td>\n",
       "      <td>0.001170</td>\n",
       "      <td>0.005331</td>\n",
       "      <td>0.748127</td>\n",
       "    </tr>\n",
       "    <tr>\n",
       "      <th>25%</th>\n",
       "      <td>0.821521</td>\n",
       "      <td>1.538162</td>\n",
       "      <td>5.297546</td>\n",
       "      <td>5.343992</td>\n",
       "      <td>11.897363</td>\n",
       "      <td>29.356684</td>\n",
       "      <td>52.930343</td>\n",
       "      <td>89.805643</td>\n",
       "    </tr>\n",
       "    <tr>\n",
       "      <th>50%</th>\n",
       "      <td>4.071036</td>\n",
       "      <td>9.037825</td>\n",
       "      <td>19.087592</td>\n",
       "      <td>25.995969</td>\n",
       "      <td>45.649888</td>\n",
       "      <td>79.558557</td>\n",
       "      <td>110.570990</td>\n",
       "      <td>159.467940</td>\n",
       "    </tr>\n",
       "    <tr>\n",
       "      <th>75%</th>\n",
       "      <td>16.137600</td>\n",
       "      <td>38.409213</td>\n",
       "      <td>63.408364</td>\n",
       "      <td>101.875093</td>\n",
       "      <td>142.230716</td>\n",
       "      <td>184.751307</td>\n",
       "      <td>208.316243</td>\n",
       "      <td>274.594590</td>\n",
       "    </tr>\n",
       "    <tr>\n",
       "      <th>max</th>\n",
       "      <td>347.133889</td>\n",
       "      <td>441.048604</td>\n",
       "      <td>524.592667</td>\n",
       "      <td>645.515752</td>\n",
       "      <td>759.177712</td>\n",
       "      <td>702.434707</td>\n",
       "      <td>661.211203</td>\n",
       "      <td>717.735673</td>\n",
       "    </tr>\n",
       "  </tbody>\n",
       "</table>\n",
       "</div>"
      ],
      "text/plain": [
       "         Coquimbo  Valparaiso  Metropolitana_de_Santiago  \\\n",
       "count  496.000000  496.000000                 496.000000   \n",
       "mean    16.154691   32.450980                  49.666682   \n",
       "std     32.629286   55.434330                  74.361099   \n",
       "min      0.000000    0.000000                   0.000000   \n",
       "25%      0.821521    1.538162                   5.297546   \n",
       "50%      4.071036    9.037825                  19.087592   \n",
       "75%     16.137600   38.409213                  63.408364   \n",
       "max    347.133889  441.048604                 524.592667   \n",
       "\n",
       "       Libertador_Gral__Bernardo_O_Higgins       Maule      Biobio  \\\n",
       "count                           496.000000  496.000000  496.000000   \n",
       "mean                             72.249805   98.662773  128.113406   \n",
       "std                             101.426112  122.766771  130.056094   \n",
       "min                               0.000000    0.000000    0.001170   \n",
       "25%                               5.343992   11.897363   29.356684   \n",
       "50%                              25.995969   45.649888   79.558557   \n",
       "75%                             101.875093  142.230716  184.751307   \n",
       "max                             645.515752  759.177712  702.434707   \n",
       "\n",
       "       La_Araucania    Los_Rios  \n",
       "count    496.000000  496.000000  \n",
       "mean     151.486456  199.451789  \n",
       "std      126.628503  140.073615  \n",
       "min        0.005331    0.748127  \n",
       "25%       52.930343   89.805643  \n",
       "50%      110.570990  159.467940  \n",
       "75%      208.316243  274.594590  \n",
       "max      661.211203  717.735673  "
      ]
     },
     "execution_count": 400,
     "metadata": {},
     "output_type": "execute_result"
    }
   ],
   "source": [
    "rain.describe()"
   ]
  },
  {
   "cell_type": "markdown",
   "id": "9ff8a3b6",
   "metadata": {},
   "source": [
    "A simple vista se observa que hay regiones, como La_Araucania y Los_Rios que tienen precipitaciones mucho mayores que el resto de las regiones"
   ]
  },
  {
   "cell_type": "markdown",
   "id": "05f1d374",
   "metadata": {},
   "source": [
    "### Dataset Economia\n",
    "\n",
    "Vamos a analizar las columnas, tipos, valores y distribucion de los datos para el dataset de variables economicas"
   ]
  },
  {
   "cell_type": "code",
   "execution_count": 401,
   "id": "f4ddf998",
   "metadata": {},
   "outputs": [
    {
     "data": {
      "text/html": [
       "<div>\n",
       "<style scoped>\n",
       "    .dataframe tbody tr th:only-of-type {\n",
       "        vertical-align: middle;\n",
       "    }\n",
       "\n",
       "    .dataframe tbody tr th {\n",
       "        vertical-align: top;\n",
       "    }\n",
       "\n",
       "    .dataframe thead th {\n",
       "        text-align: right;\n",
       "    }\n",
       "</style>\n",
       "<table border=\"1\" class=\"dataframe\">\n",
       "  <thead>\n",
       "    <tr style=\"text-align: right;\">\n",
       "      <th></th>\n",
       "      <th>Periodo</th>\n",
       "      <th>Imacec_empalmado</th>\n",
       "      <th>Imacec_produccion_de_bienes</th>\n",
       "      <th>Imacec_minero</th>\n",
       "      <th>Imacec_industria</th>\n",
       "      <th>Imacec_resto_de_bienes</th>\n",
       "      <th>Imacec_comercio</th>\n",
       "      <th>Imacec_servicios</th>\n",
       "      <th>Imacec_a_costo_de_factores</th>\n",
       "      <th>Imacec_no_minero</th>\n",
       "      <th>...</th>\n",
       "      <th>Indice_de_tipo_de_cambio_real___TCR_promedio_1986_100</th>\n",
       "      <th>Indice_de_produccion_industrial</th>\n",
       "      <th>Indice_de_produccion_industrial__mineria</th>\n",
       "      <th>Indice_de_produccion_industrial_electricidad__gas_y_agua</th>\n",
       "      <th>Indice_de_produccion_industrial__manufacturera</th>\n",
       "      <th>Generacion_de_energia_electrica_CDEC_GWh</th>\n",
       "      <th>Indice_de_ventas_comercio_real_IVCM</th>\n",
       "      <th>Indice_de_ventas_comercio_real_no_durables_IVCM</th>\n",
       "      <th>Indice_de_ventas_comercio_real_durables_IVCM</th>\n",
       "      <th>Ventas_autos_nuevos</th>\n",
       "    </tr>\n",
       "  </thead>\n",
       "  <tbody>\n",
       "    <tr>\n",
       "      <th>0</th>\n",
       "      <td>2013-03-01 00:00:00 UTC</td>\n",
       "      <td>102.796.218</td>\n",
       "      <td>10.546.824</td>\n",
       "      <td>978.554.365</td>\n",
       "      <td>102.297.537</td>\n",
       "      <td>114.994.919</td>\n",
       "      <td>110.729.395</td>\n",
       "      <td>100.064.328</td>\n",
       "      <td>103.163.651</td>\n",
       "      <td>103.405.852</td>\n",
       "      <td>...</td>\n",
       "      <td>865.903.468</td>\n",
       "      <td>102.761.705</td>\n",
       "      <td>98.915.705</td>\n",
       "      <td>NaN</td>\n",
       "      <td>108.387.837</td>\n",
       "      <td>580.480.672</td>\n",
       "      <td>NaN</td>\n",
       "      <td>NaN</td>\n",
       "      <td>NaN</td>\n",
       "      <td>28577.0</td>\n",
       "    </tr>\n",
       "    <tr>\n",
       "      <th>1</th>\n",
       "      <td>2013-04-01 00:00:00 UTC</td>\n",
       "      <td>101.664.842</td>\n",
       "      <td>999.272.757</td>\n",
       "      <td>927.333.293</td>\n",
       "      <td>104.485.589</td>\n",
       "      <td>102.199.311</td>\n",
       "      <td>106.098.291</td>\n",
       "      <td>102.600.107</td>\n",
       "      <td>101.937.319</td>\n",
       "      <td>102.766.884</td>\n",
       "      <td>...</td>\n",
       "      <td>867.806.065</td>\n",
       "      <td>968.087.179</td>\n",
       "      <td>914.276.663</td>\n",
       "      <td>NaN</td>\n",
       "      <td>104.545.429</td>\n",
       "      <td>544.815.032</td>\n",
       "      <td>NaN</td>\n",
       "      <td>NaN</td>\n",
       "      <td>NaN</td>\n",
       "      <td>32206.0</td>\n",
       "    </tr>\n",
       "    <tr>\n",
       "      <th>2</th>\n",
       "      <td>2013-05-01 00:00:00 UTC</td>\n",
       "      <td>101.642.954</td>\n",
       "      <td>993.959.922</td>\n",
       "      <td>96.133.164</td>\n",
       "      <td>105.445.361</td>\n",
       "      <td>968.789.055</td>\n",
       "      <td>100.462.117</td>\n",
       "      <td>104.083.216</td>\n",
       "      <td>101.953.299</td>\n",
       "      <td>102.322.796</td>\n",
       "      <td>...</td>\n",
       "      <td>878.030.947</td>\n",
       "      <td>978.471.874</td>\n",
       "      <td>966.913.278</td>\n",
       "      <td>NaN</td>\n",
       "      <td>99.468.801</td>\n",
       "      <td>56.891.916</td>\n",
       "      <td>NaN</td>\n",
       "      <td>NaN</td>\n",
       "      <td>NaN</td>\n",
       "      <td>31589.0</td>\n",
       "    </tr>\n",
       "    <tr>\n",
       "      <th>3</th>\n",
       "      <td>2013-06-01 00:00:00 UTC</td>\n",
       "      <td>998.310.201</td>\n",
       "      <td>968.367.884</td>\n",
       "      <td>102.400.933</td>\n",
       "      <td>999.212.106</td>\n",
       "      <td>89.190.493</td>\n",
       "      <td>939.504.414</td>\n",
       "      <td>103.857.161</td>\n",
       "      <td>100.222.381</td>\n",
       "      <td>995.139.235</td>\n",
       "      <td>...</td>\n",
       "      <td>913.180.348</td>\n",
       "      <td>966.647.135</td>\n",
       "      <td>981.820.974</td>\n",
       "      <td>NaN</td>\n",
       "      <td>94.969.678</td>\n",
       "      <td>56.594.867</td>\n",
       "      <td>NaN</td>\n",
       "      <td>NaN</td>\n",
       "      <td>NaN</td>\n",
       "      <td>28457.0</td>\n",
       "    </tr>\n",
       "    <tr>\n",
       "      <th>4</th>\n",
       "      <td>2013-07-01 00:00:00 UTC</td>\n",
       "      <td>964.696.194</td>\n",
       "      <td>961.051.418</td>\n",
       "      <td>980.029.022</td>\n",
       "      <td>100.882.112</td>\n",
       "      <td>901.785.886</td>\n",
       "      <td>92.776.599</td>\n",
       "      <td>969.309.272</td>\n",
       "      <td>962.069.134</td>\n",
       "      <td>962.804.305</td>\n",
       "      <td>...</td>\n",
       "      <td>909.263.447</td>\n",
       "      <td>100.100.749</td>\n",
       "      <td>990.198.382</td>\n",
       "      <td>NaN</td>\n",
       "      <td>102.128.977</td>\n",
       "      <td>586.329.899</td>\n",
       "      <td>NaN</td>\n",
       "      <td>NaN</td>\n",
       "      <td>NaN</td>\n",
       "      <td>31736.0</td>\n",
       "    </tr>\n",
       "  </tbody>\n",
       "</table>\n",
       "<p>5 rows × 85 columns</p>\n",
       "</div>"
      ],
      "text/plain": [
       "                   Periodo Imacec_empalmado Imacec_produccion_de_bienes  \\\n",
       "0  2013-03-01 00:00:00 UTC      102.796.218                  10.546.824   \n",
       "1  2013-04-01 00:00:00 UTC      101.664.842                 999.272.757   \n",
       "2  2013-05-01 00:00:00 UTC      101.642.954                 993.959.922   \n",
       "3  2013-06-01 00:00:00 UTC      998.310.201                 968.367.884   \n",
       "4  2013-07-01 00:00:00 UTC      964.696.194                 961.051.418   \n",
       "\n",
       "  Imacec_minero Imacec_industria Imacec_resto_de_bienes Imacec_comercio  \\\n",
       "0   978.554.365      102.297.537            114.994.919     110.729.395   \n",
       "1   927.333.293      104.485.589            102.199.311     106.098.291   \n",
       "2    96.133.164      105.445.361            968.789.055     100.462.117   \n",
       "3   102.400.933      999.212.106             89.190.493     939.504.414   \n",
       "4   980.029.022      100.882.112            901.785.886      92.776.599   \n",
       "\n",
       "  Imacec_servicios Imacec_a_costo_de_factores Imacec_no_minero  ...  \\\n",
       "0      100.064.328                103.163.651      103.405.852  ...   \n",
       "1      102.600.107                101.937.319      102.766.884  ...   \n",
       "2      104.083.216                101.953.299      102.322.796  ...   \n",
       "3      103.857.161                100.222.381      995.139.235  ...   \n",
       "4      969.309.272                962.069.134      962.804.305  ...   \n",
       "\n",
       "  Indice_de_tipo_de_cambio_real___TCR_promedio_1986_100  \\\n",
       "0                                        865.903.468      \n",
       "1                                        867.806.065      \n",
       "2                                        878.030.947      \n",
       "3                                        913.180.348      \n",
       "4                                        909.263.447      \n",
       "\n",
       "  Indice_de_produccion_industrial Indice_de_produccion_industrial__mineria  \\\n",
       "0                     102.761.705                               98.915.705   \n",
       "1                     968.087.179                              914.276.663   \n",
       "2                     978.471.874                              966.913.278   \n",
       "3                     966.647.135                              981.820.974   \n",
       "4                     100.100.749                              990.198.382   \n",
       "\n",
       "  Indice_de_produccion_industrial_electricidad__gas_y_agua  \\\n",
       "0                                                NaN         \n",
       "1                                                NaN         \n",
       "2                                                NaN         \n",
       "3                                                NaN         \n",
       "4                                                NaN         \n",
       "\n",
       "  Indice_de_produccion_industrial__manufacturera  \\\n",
       "0                                    108.387.837   \n",
       "1                                    104.545.429   \n",
       "2                                     99.468.801   \n",
       "3                                     94.969.678   \n",
       "4                                    102.128.977   \n",
       "\n",
       "  Generacion_de_energia_electrica_CDEC_GWh  \\\n",
       "0                              580.480.672   \n",
       "1                              544.815.032   \n",
       "2                               56.891.916   \n",
       "3                               56.594.867   \n",
       "4                              586.329.899   \n",
       "\n",
       "  Indice_de_ventas_comercio_real_IVCM  \\\n",
       "0                                 NaN   \n",
       "1                                 NaN   \n",
       "2                                 NaN   \n",
       "3                                 NaN   \n",
       "4                                 NaN   \n",
       "\n",
       "  Indice_de_ventas_comercio_real_no_durables_IVCM  \\\n",
       "0                                             NaN   \n",
       "1                                             NaN   \n",
       "2                                             NaN   \n",
       "3                                             NaN   \n",
       "4                                             NaN   \n",
       "\n",
       "  Indice_de_ventas_comercio_real_durables_IVCM Ventas_autos_nuevos  \n",
       "0                                          NaN             28577.0  \n",
       "1                                          NaN             32206.0  \n",
       "2                                          NaN             31589.0  \n",
       "3                                          NaN             28457.0  \n",
       "4                                          NaN             31736.0  \n",
       "\n",
       "[5 rows x 85 columns]"
      ]
     },
     "execution_count": 401,
     "metadata": {},
     "output_type": "execute_result"
    }
   ],
   "source": [
    "economy.head()"
   ]
  },
  {
   "cell_type": "code",
   "execution_count": 402,
   "id": "c2a0ba1c",
   "metadata": {},
   "outputs": [
    {
     "data": {
      "text/plain": [
       "str"
      ]
     },
     "execution_count": 402,
     "metadata": {},
     "output_type": "execute_result"
    }
   ],
   "source": [
    "type(economy.Imacec_empalmado[0])"
   ]
  },
  {
   "cell_type": "code",
   "execution_count": 403,
   "id": "807c4ef1",
   "metadata": {},
   "outputs": [
    {
     "data": {
      "text/plain": [
       "Periodo                                             object\n",
       "Imacec_empalmado                                    object\n",
       "Imacec_produccion_de_bienes                         object\n",
       "Imacec_minero                                       object\n",
       "Imacec_industria                                    object\n",
       "                                                    ...   \n",
       "Generacion_de_energia_electrica_CDEC_GWh            object\n",
       "Indice_de_ventas_comercio_real_IVCM                 object\n",
       "Indice_de_ventas_comercio_real_no_durables_IVCM     object\n",
       "Indice_de_ventas_comercio_real_durables_IVCM        object\n",
       "Ventas_autos_nuevos                                float64\n",
       "Length: 85, dtype: object"
      ]
     },
     "execution_count": 403,
     "metadata": {},
     "output_type": "execute_result"
    }
   ],
   "source": [
    "economy.dtypes"
   ]
  },
  {
   "cell_type": "code",
   "execution_count": 404,
   "id": "8400a0f5",
   "metadata": {
    "scrolled": true
   },
   "outputs": [
    {
     "data": {
      "text/plain": [
       "object     77\n",
       "float64     8\n",
       "dtype: int64"
      ]
     },
     "execution_count": 404,
     "metadata": {},
     "output_type": "execute_result"
    }
   ],
   "source": [
    "economy.dtypes.value_counts()"
   ]
  },
  {
   "cell_type": "markdown",
   "id": "b2231b0d",
   "metadata": {},
   "source": [
    "El formato de la fecha del dataset de enocomia tiene un formato distinto que el formato del dataset de precipitaciones. Se deberá realizar una conversion para hacer correlaciones.\n",
    "77 de 85 series de datos son tipo objetos, en donde hay varios datos de tipo string, se deberá relizar una limpieza para tratar estos datos matematicamente."
   ]
  },
  {
   "cell_type": "code",
   "execution_count": 405,
   "id": "5f97e87c",
   "metadata": {},
   "outputs": [
    {
     "data": {
      "text/plain": [
       "Periodo                                              0\n",
       "Imacec_empalmado                                   314\n",
       "Imacec_produccion_de_bienes                        314\n",
       "Imacec_minero                                      314\n",
       "Imacec_industria                                   313\n",
       "                                                  ... \n",
       "Generacion_de_energia_electrica_CDEC_GWh           350\n",
       "Indice_de_ventas_comercio_real_IVCM                530\n",
       "Indice_de_ventas_comercio_real_no_durables_IVCM    530\n",
       "Indice_de_ventas_comercio_real_durables_IVCM       529\n",
       "Ventas_autos_nuevos                                469\n",
       "Length: 85, dtype: int64"
      ]
     },
     "execution_count": 405,
     "metadata": {},
     "output_type": "execute_result"
    }
   ],
   "source": [
    "economy.isnull().sum()"
   ]
  },
  {
   "cell_type": "markdown",
   "id": "7748a251",
   "metadata": {},
   "source": [
    "Existen muchos datos faltantes en cada columna, se debera tratar estos datos para que no afecten a los futuros modelos."
   ]
  },
  {
   "cell_type": "markdown",
   "id": "9b73207a",
   "metadata": {},
   "source": [
    "## 2.b) Realiza una limpieza de datos para que las series de tiempo no tengan duplicados ni valores incorrectos."
   ]
  },
  {
   "cell_type": "markdown",
   "id": "8aa74a5f",
   "metadata": {},
   "source": [
    "### Primero analizaremos las series de tiempo del dataset de precipitaciones"
   ]
  },
  {
   "cell_type": "code",
   "execution_count": 406,
   "id": "3b7941a2",
   "metadata": {},
   "outputs": [
    {
     "data": {
      "text/plain": [
       "True"
      ]
     },
     "execution_count": 406,
     "metadata": {},
     "output_type": "execute_result"
    }
   ],
   "source": [
    "rain[\"date\"].is_unique "
   ]
  },
  {
   "cell_type": "markdown",
   "id": "88051e69",
   "metadata": {},
   "source": [
    "No se tienen valores duplicados\n",
    "\n",
    "Revisaremos que todas las fechas esten entre enero del 1970\n",
    "y abril del 2020"
   ]
  },
  {
   "cell_type": "code",
   "execution_count": 407,
   "id": "102af420",
   "metadata": {},
   "outputs": [
    {
     "data": {
      "text/plain": [
       "170    1979-01-01\n",
       "465    1979-02-01\n",
       "305    1979-03-01\n",
       "441    1979-04-01\n",
       "217    1979-05-01\n",
       "          ...    \n",
       "410    2019-12-01\n",
       "38     2020-01-01\n",
       "166    2020-02-01\n",
       "7      2020-03-01\n",
       "144    2020-04-01\n",
       "Name: date, Length: 496, dtype: object"
      ]
     },
     "execution_count": 407,
     "metadata": {},
     "output_type": "execute_result"
    }
   ],
   "source": [
    "rain[\"date\"].sort_values()"
   ]
  },
  {
   "cell_type": "markdown",
   "id": "c4cda58b",
   "metadata": {},
   "source": [
    "Finalmente revisar si todos los meses corresponden a valores entre 1 y 12. Y el día corresponde al primero de cada mes"
   ]
  },
  {
   "cell_type": "code",
   "execution_count": 408,
   "id": "df638724",
   "metadata": {},
   "outputs": [],
   "source": [
    "for date in rain[\"date\"]:\n",
    "    ano, mes, dia = date.split(\"-\")\n",
    "    if int(mes) < 1 or int(mes) > 12:\n",
    "        print(\"Error, fecha {}, tiene mes incorrecto\".format(date))\n",
    "    if int(dia) != 1:\n",
    "        print(\"Error, fecha {}, tiene dia incorrecto\".format(date))"
   ]
  },
  {
   "cell_type": "markdown",
   "id": "e6ed8014",
   "metadata": {},
   "source": [
    "### Pasar fecha a valor tipo datetime"
   ]
  },
  {
   "cell_type": "code",
   "execution_count": 409,
   "id": "95ce337e",
   "metadata": {},
   "outputs": [
    {
     "data": {
      "text/plain": [
       "0   1989-02-01\n",
       "1   1998-10-01\n",
       "2   2001-02-01\n",
       "3   2008-11-01\n",
       "4   2009-04-01\n",
       "Name: date, dtype: datetime64[ns]"
      ]
     },
     "execution_count": 409,
     "metadata": {},
     "output_type": "execute_result"
    }
   ],
   "source": [
    "rain['date'] =  pd.to_datetime(rain['date'], format='%Y-%m-%d')\n",
    "rain['date'].head()"
   ]
  },
  {
   "cell_type": "markdown",
   "id": "1bad6a78",
   "metadata": {},
   "source": [
    "### Analizaremos las series de tiempo del dataset de variables economicas"
   ]
  },
  {
   "cell_type": "code",
   "execution_count": 410,
   "id": "624143ac",
   "metadata": {},
   "outputs": [
    {
     "data": {
      "text/plain": [
       "False"
      ]
     },
     "execution_count": 410,
     "metadata": {},
     "output_type": "execute_result"
    }
   ],
   "source": [
    "economy[\"Periodo\"].is_unique"
   ]
  },
  {
   "cell_type": "markdown",
   "id": "85a9ad49",
   "metadata": {},
   "source": [
    "Existen valores duplicados, vamos a revisar"
   ]
  },
  {
   "cell_type": "code",
   "execution_count": 411,
   "id": "8a533464",
   "metadata": {},
   "outputs": [
    {
     "data": {
      "text/plain": [
       "66    2018-08-01 00:00:00 UTC\n",
       "79    2019-08-01 00:00:00 UTC\n",
       "Name: Periodo, dtype: object"
      ]
     },
     "execution_count": 411,
     "metadata": {},
     "output_type": "execute_result"
    }
   ],
   "source": [
    "economy[\"Periodo\"][economy[\"Periodo\"].duplicated()]"
   ]
  },
  {
   "cell_type": "code",
   "execution_count": 412,
   "id": "6a29a76d",
   "metadata": {},
   "outputs": [
    {
     "name": "stdout",
     "output_type": "stream",
     "text": [
      "65 2018-08-01 00:00:00 UTC\n",
      "66 2018-08-01 00:00:00 UTC\n",
      "78 2019-08-01 00:00:00 UTC\n",
      "79 2019-08-01 00:00:00 UTC\n"
     ]
    }
   ],
   "source": [
    "for i in range(economy[\"Periodo\"].size):\n",
    "    if economy[\"Periodo\"][i] == \"2018-08-01 00:00:00 UTC\" or economy[\"Periodo\"][i] == \"2019-08-01 00:00:00 UTC\":\n",
    "        print(i, economy[\"Periodo\"][i])"
   ]
  },
  {
   "cell_type": "code",
   "execution_count": 413,
   "id": "9c7ad380",
   "metadata": {},
   "outputs": [],
   "source": [
    "row65 = economy[65:66].values\n",
    "row66 = economy[66:67].values\n",
    "for i in range(len(row65)):\n",
    "    if row65[0][i] != row66[0][i]:\n",
    "        print(\"distintos\")"
   ]
  },
  {
   "cell_type": "code",
   "execution_count": 414,
   "id": "2f5ccdb8",
   "metadata": {},
   "outputs": [],
   "source": [
    "row78 = economy[78:79].values\n",
    "row79 = economy[79:80].values\n",
    "for i in range(len(row65)):\n",
    "    if row78[0][i] != row79[0][i]:\n",
    "        print(\"distintos\")"
   ]
  },
  {
   "cell_type": "markdown",
   "id": "1f688cc3",
   "metadata": {},
   "source": [
    "Las filas 65 y 66 son iguales, lo mismo para las 78 y 79, se procede a borrar una de cada grupo."
   ]
  },
  {
   "cell_type": "code",
   "execution_count": 415,
   "id": "284da434",
   "metadata": {},
   "outputs": [],
   "source": [
    "economy = economy.drop([66, 79])"
   ]
  },
  {
   "cell_type": "code",
   "execution_count": 416,
   "id": "83bcd45a",
   "metadata": {},
   "outputs": [
    {
     "data": {
      "text/plain": [
       "612"
      ]
     },
     "execution_count": 416,
     "metadata": {},
     "output_type": "execute_result"
    }
   ],
   "source": [
    "economy.shape[0]"
   ]
  },
  {
   "cell_type": "markdown",
   "id": "16662cca",
   "metadata": {},
   "source": [
    "Se redujo en dos filas nuestro dataset"
   ]
  },
  {
   "cell_type": "markdown",
   "id": "16629d01",
   "metadata": {},
   "source": [
    "Vamos a analizar el format de las fechas del dataset"
   ]
  },
  {
   "cell_type": "code",
   "execution_count": 420,
   "id": "2685ca08",
   "metadata": {},
   "outputs": [],
   "source": [
    "for date in economy[\"Periodo\"]:\n",
    "    fecha, _, _ = date.split(\" \")\n",
    "    ano, mes, dia = fecha.split(\"-\")\n",
    "    #print(ano, dia, mes)\n",
    "    if int(mes) < 1 or int(mes) > 12:\n",
    "        print(\"Error, fecha {}, tiene mes incorrecto\".format(date))\n",
    "    if int(dia) < 1 or int(dia) > 31:\n",
    "        print(\"Error, fecha {}, tiene dia incorrecto\".format(date))"
   ]
  },
  {
   "cell_type": "markdown",
   "id": "3c047cd7",
   "metadata": {},
   "source": [
    "Hay una fecha con mes incorrecto 13, podria ser un error de tipeo y se quizo ingresar el mes 12.\n",
    "Veamos si ya existe el registro de la fecha 2020-12-01"
   ]
  },
  {
   "cell_type": "code",
   "execution_count": 418,
   "id": "4a202eee",
   "metadata": {},
   "outputs": [],
   "source": [
    "for date in economy[\"Periodo\"]:\n",
    "    fecha, _, _ = date.split(\" \")\n",
    "    ano, mes, dia = fecha.split(\"-\")\n",
    "    if ano == \"2020\" and mes == \"12\":\n",
    "        print(\"Si existe la fecha\")"
   ]
  },
  {
   "cell_type": "markdown",
   "id": "06334a23",
   "metadata": {},
   "source": [
    "Al parecer no existe esa fecha, vamos a corregirla"
   ]
  },
  {
   "cell_type": "code",
   "execution_count": 419,
   "id": "b8d0baf1",
   "metadata": {},
   "outputs": [],
   "source": [
    "economy['Periodo'] = np.where(economy['Periodo'] == \"2020-13-01 00:00:00 UTC\", \"2020-12-01 00:00:00 UTC\", economy['Periodo'])"
   ]
  },
  {
   "cell_type": "code",
   "execution_count": 421,
   "id": "d28952e9",
   "metadata": {},
   "outputs": [],
   "source": [
    "for date in economy[\"Periodo\"]:\n",
    "    fecha, _, _ = date.split(\" \")\n",
    "    ano, mes, dia = fecha.split(\"-\")\n",
    "    #print(ano, dia, mes)\n",
    "    if int(mes) < 1 or int(mes) > 12:\n",
    "        print(\"Error, fecha {}, tiene mes incorrecto\".format(date))\n",
    "    if int(dia) != 1:\n",
    "        print(\"Error, fecha {}, tiene dia incorrecto\".format(date))"
   ]
  },
  {
   "cell_type": "markdown",
   "id": "e50cb675",
   "metadata": {},
   "source": [
    "Fecha corregida!"
   ]
  },
  {
   "cell_type": "markdown",
   "id": "377e5198",
   "metadata": {},
   "source": [
    "### Ahora vamos a modificar el formato de fecha para que coincidan con los dos datasets"
   ]
  },
  {
   "cell_type": "code",
   "execution_count": 422,
   "id": "095cf27c",
   "metadata": {
    "scrolled": true
   },
   "outputs": [
    {
     "data": {
      "text/plain": [
       "0    2013-03-01\n",
       "1    2013-04-01\n",
       "2    2013-05-01\n",
       "3    2013-06-01\n",
       "4    2013-07-01\n",
       "Name: Periodo, dtype: object"
      ]
     },
     "execution_count": 422,
     "metadata": {},
     "output_type": "execute_result"
    }
   ],
   "source": [
    "def fecha_format(value):\n",
    "    fecha, _, _ = value.split(\" \")\n",
    "    \n",
    "    return fecha\n",
    "\n",
    "economy[\"Periodo\"] = economy[\"Periodo\"].apply(lambda x: fecha_format(x))\n",
    "economy[\"Periodo\"].head()"
   ]
  },
  {
   "cell_type": "code",
   "execution_count": 423,
   "id": "b0640c55",
   "metadata": {},
   "outputs": [],
   "source": [
    "economy['Periodo'] =  pd.to_datetime(economy['Periodo'], format='%Y-%m-%d')"
   ]
  },
  {
   "cell_type": "markdown",
   "id": "2360f9cd",
   "metadata": {},
   "source": [
    "### Vamos a pasar las columnas con valores en string, en formato de miles 100.000.000 a numeros flotantes"
   ]
  },
  {
   "cell_type": "code",
   "execution_count": 424,
   "id": "2f966e38",
   "metadata": {},
   "outputs": [],
   "source": [
    "columns_obj = economy.select_dtypes(include=['object']).columns\n",
    "columns_obj = columns[1:]"
   ]
  },
  {
   "cell_type": "code",
   "execution_count": 425,
   "id": "1e647560",
   "metadata": {},
   "outputs": [
    {
     "data": {
      "text/plain": [
       "Index(['Imacec_produccion_de_bienes', 'Imacec_minero', 'Imacec_industria',\n",
       "       'Imacec_resto_de_bienes', 'Imacec_comercio', 'Imacec_servicios',\n",
       "       'Imacec_a_costo_de_factores', 'Imacec_no_minero',\n",
       "       'PIB_Agropecuario_silvicola', 'PIB_Pesca', 'PIB_Mineria',\n",
       "       'PIB_Mineria_del_cobre', 'PIB_Otras_actividades_mineras',\n",
       "       'PIB_Industria_Manufacturera', 'PIB_Alimentos', 'PIB_Bebidas_y_tabaco',\n",
       "       'PIB_Textil', 'PIB_Maderas_y_muebles', 'PIB_Celulosa',\n",
       "       'PIB_Refinacion_de_petroleo', 'PIB_Quimica',\n",
       "       'PIB_Minerales_no_metalicos_y_metalica_basica',\n",
       "       'PIB_Productos_metalicos', 'PIB_Electricidad', 'PIB_Construccion',\n",
       "       'PIB_Comercio', 'PIB_Restaurantes_y_hoteles', 'PIB_Transporte',\n",
       "       'PIB_Comunicaciones', 'PIB_Servicios_financieros',\n",
       "       'PIB_Servicios_empresariales', 'PIB_Servicios_de_vivienda',\n",
       "       'PIB_Servicios_personales', 'PIB_Administracion_publica',\n",
       "       'PIB_a_costo_de_factores', 'Impuesto_al_valor_agregado',\n",
       "       'Derechos_de_Importacion', 'PIB',\n",
       "       'Precio_de_la_gasolina_en_EEUU_dolaresm3',\n",
       "       'Precio_del_cobre_refinado_BML_dolareslibra',\n",
       "       'Precio_del_kerosene_dolaresm3',\n",
       "       'Tipo_de_cambio_del_dolar_observado_diario', 'Ocupados',\n",
       "       'Ocupacion_en_Agricultura_INE',\n",
       "       'Ocupacion_en_Explotacion_de_minas_y_canteras_INE',\n",
       "       'Ocupacion_en_Industrias_manufactureras_INE',\n",
       "       'Ocupacion_en_Suministro_de_electricidad_INE',\n",
       "       'Ocupacion_en_Actividades_de_servicios_administrativos_y_de_apoyo_INE',\n",
       "       'Ocupacion_en_Actividades_profesionales_INE',\n",
       "       'Ocupacion_en_Actividades_inmobiliarias_INE',\n",
       "       'Ocupacion_en_Actividades_financieras_y_de_seguros_INE',\n",
       "       'Ocupacion_en_Informacion_y_comunicaciones_INE',\n",
       "       'Ocupacion_en_Transporte_y_almacenamiento_INE',\n",
       "       'Ocupacion_en_Actividades_de_alojamiento_y_de_servicio_de_comidas_INE',\n",
       "       'Ocupacion_en_Construccion_INE', 'Ocupacion_en_Comercio_INE',\n",
       "       'Ocupacion_en_Suministro_de_agua_evacuacion_de_aguas_residuales_INE',\n",
       "       'Ocupacion_en_Administracion_publica_y_defensa_INE',\n",
       "       'Ocupacion_en_Enseanza_INE',\n",
       "       'Ocupacion_en_Actividades_de_atencion_de_la_salud_humana_y_de_asistencia_social_INE',\n",
       "       'Ocupacion_en_Actividades_artisticas_INE',\n",
       "       'Ocupacion_en_Otras_actividades_de_servicios_INE',\n",
       "       'Ocupacion_en_Actividades_de_los_hogares_como_empleadores_INE',\n",
       "       'Ocupacion_en_Actividades_de_organizaciones_y_organos_extraterritoriales_INE',\n",
       "       'No_sabe__No_responde_Miles_de_personas',\n",
       "       'Tipo_de_cambio_nominal_multilateral___TCM',\n",
       "       'Indice_de_tipo_de_cambio_real___TCR_promedio_1986_100',\n",
       "       'Indice_de_produccion_industrial',\n",
       "       'Indice_de_produccion_industrial__mineria',\n",
       "       'Indice_de_produccion_industrial_electricidad__gas_y_agua',\n",
       "       'Indice_de_produccion_industrial__manufacturera',\n",
       "       'Generacion_de_energia_electrica_CDEC_GWh',\n",
       "       'Indice_de_ventas_comercio_real_IVCM',\n",
       "       'Indice_de_ventas_comercio_real_no_durables_IVCM',\n",
       "       'Indice_de_ventas_comercio_real_durables_IVCM'],\n",
       "      dtype='object')"
      ]
     },
     "execution_count": 425,
     "metadata": {},
     "output_type": "execute_result"
    }
   ],
   "source": [
    "columns_obj"
   ]
  },
  {
   "cell_type": "code",
   "execution_count": 426,
   "id": "946c5d67",
   "metadata": {},
   "outputs": [
    {
     "name": "stdout",
     "output_type": "stream",
     "text": [
      "float64\n",
      "float64\n",
      "float64\n",
      "An exception occurred with value a\n",
      "float64\n",
      "float64\n",
      "float64\n",
      "float64\n",
      "float64\n",
      "float64\n",
      "An exception occurred with value a\n",
      "float64\n",
      "float64\n",
      "float64\n",
      "float64\n",
      "float64\n",
      "An exception occurred with value a\n",
      "An exception occurred with value a\n",
      "An exception occurred with value a\n",
      "An exception occurred with value a\n",
      "float64\n",
      "float64\n",
      "float64\n",
      "float64\n",
      "float64\n",
      "float64\n",
      "float64\n",
      "An exception occurred with value a\n",
      "An exception occurred with value a\n",
      "An exception occurred with value a\n",
      "float64\n",
      "An exception occurred with value a\n",
      "float64\n",
      "float64\n",
      "float64\n",
      "float64\n",
      "float64\n",
      "float64\n",
      "float64\n",
      "float64\n",
      "float64\n",
      "float64\n",
      "float64\n",
      "float64\n",
      "float64\n",
      "float64\n",
      "float64\n",
      "float64\n",
      "float64\n",
      "float64\n",
      "float64\n",
      "float64\n",
      "float64\n",
      "float64\n",
      "float64\n",
      "float64\n",
      "float64\n",
      "An exception occurred with value a\n",
      "float64\n",
      "float64\n",
      "float64\n",
      "float64\n",
      "float64\n",
      "An exception occurred with value a\n",
      "float64\n",
      "float64\n",
      "float64\n",
      "float64\n",
      "float64\n",
      "An exception occurred with value a\n",
      "An exception occurred with value a\n",
      "An exception occurred with value a\n",
      "An exception occurred with value a\n",
      "float64\n",
      "float64\n",
      "float64\n",
      "float64\n",
      "float64\n",
      "An exception occurred with value a\n",
      "float64\n",
      "float64\n",
      "float64\n",
      "float64\n",
      "float64\n",
      "float64\n",
      "float64\n",
      "float64\n",
      "float64\n",
      "float64\n",
      "float64\n",
      "float64\n",
      "float64\n",
      "float64\n"
     ]
    }
   ],
   "source": [
    "def pesos_to_float(value):\n",
    "    # nan case\n",
    "    if type(value) == float:\n",
    "        return value\n",
    "    if type(value) == str:\n",
    "        new = value.replace(\".\",\"\")\n",
    "        try:\n",
    "            new_float = float(new)\n",
    "        except:\n",
    "            print(\"An exception occurred with value\", new)\n",
    "            return -1\n",
    "        return new_float\n",
    "    \n",
    "for col in columns:\n",
    "    economy[col] = economy[col].apply(lambda x: pesos_to_float(x))\n",
    "    print(economy[col].dtype)\n",
    "    "
   ]
  },
  {
   "cell_type": "code",
   "execution_count": 427,
   "id": "aadaee93",
   "metadata": {},
   "outputs": [
    {
     "data": {
      "text/plain": [
       "float64           84\n",
       "datetime64[ns]     1\n",
       "dtype: int64"
      ]
     },
     "execution_count": 427,
     "metadata": {},
     "output_type": "execute_result"
    }
   ],
   "source": [
    "economy.dtypes.value_counts()"
   ]
  },
  {
   "cell_type": "markdown",
   "id": "c92ea4cd",
   "metadata": {},
   "source": [
    "Se convirtieron los valores en string a float. Existen algunos errores con valores igual a \"a\". En estos casos se guardó el valor como -1 para posteriores modificaciones si fueran necesarias."
   ]
  },
  {
   "cell_type": "markdown",
   "id": "51690255",
   "metadata": {},
   "source": [
    "# 3. Visualización\n",
    "\n",
    "## 3.a) Crea una función que permita graficar series históricas de precipitaciones para un rango de fechas determinado. Para esto la función debe recibir como argumentos el nombre de una región, fecha de inicio y fecha de término (asegúrate de verificar en tu función que tanto el nombre de la región como las fechas ingresadas existan en el dataset)."
   ]
  },
  {
   "cell_type": "code",
   "execution_count": 221,
   "id": "ffc078e6",
   "metadata": {},
   "outputs": [
    {
     "data": {
      "text/html": [
       "<div>\n",
       "<style scoped>\n",
       "    .dataframe tbody tr th:only-of-type {\n",
       "        vertical-align: middle;\n",
       "    }\n",
       "\n",
       "    .dataframe tbody tr th {\n",
       "        vertical-align: top;\n",
       "    }\n",
       "\n",
       "    .dataframe thead th {\n",
       "        text-align: right;\n",
       "    }\n",
       "</style>\n",
       "<table border=\"1\" class=\"dataframe\">\n",
       "  <thead>\n",
       "    <tr style=\"text-align: right;\">\n",
       "      <th></th>\n",
       "      <th>date</th>\n",
       "      <th>Coquimbo</th>\n",
       "      <th>Valparaiso</th>\n",
       "      <th>Metropolitana_de_Santiago</th>\n",
       "      <th>Libertador_Gral__Bernardo_O_Higgins</th>\n",
       "      <th>Maule</th>\n",
       "      <th>Biobio</th>\n",
       "      <th>La_Araucania</th>\n",
       "      <th>Los_Rios</th>\n",
       "    </tr>\n",
       "  </thead>\n",
       "  <tbody>\n",
       "    <tr>\n",
       "      <th>0</th>\n",
       "      <td>1989-02-01</td>\n",
       "      <td>0.719033</td>\n",
       "      <td>0.117045</td>\n",
       "      <td>0.028272</td>\n",
       "      <td>0.0</td>\n",
       "      <td>0.724667</td>\n",
       "      <td>9.172945</td>\n",
       "      <td>22.595834</td>\n",
       "      <td>52.268010</td>\n",
       "    </tr>\n",
       "    <tr>\n",
       "      <th>1</th>\n",
       "      <td>1998-10-01</td>\n",
       "      <td>0.065216</td>\n",
       "      <td>0.000000</td>\n",
       "      <td>0.011493</td>\n",
       "      <td>0.0</td>\n",
       "      <td>0.008968</td>\n",
       "      <td>2.089674</td>\n",
       "      <td>14.702087</td>\n",
       "      <td>45.142041</td>\n",
       "    </tr>\n",
       "    <tr>\n",
       "      <th>2</th>\n",
       "      <td>2001-02-01</td>\n",
       "      <td>2.030026</td>\n",
       "      <td>0.047987</td>\n",
       "      <td>0.002634</td>\n",
       "      <td>0.0</td>\n",
       "      <td>0.032163</td>\n",
       "      <td>10.768351</td>\n",
       "      <td>29.465057</td>\n",
       "      <td>65.571098</td>\n",
       "    </tr>\n",
       "    <tr>\n",
       "      <th>3</th>\n",
       "      <td>2008-11-01</td>\n",
       "      <td>0.622784</td>\n",
       "      <td>0.000000</td>\n",
       "      <td>0.015872</td>\n",
       "      <td>0.0</td>\n",
       "      <td>1.734168</td>\n",
       "      <td>25.083557</td>\n",
       "      <td>64.901645</td>\n",
       "      <td>113.093488</td>\n",
       "    </tr>\n",
       "    <tr>\n",
       "      <th>4</th>\n",
       "      <td>2009-04-01</td>\n",
       "      <td>0.008065</td>\n",
       "      <td>0.000000</td>\n",
       "      <td>0.009396</td>\n",
       "      <td>0.0</td>\n",
       "      <td>12.080715</td>\n",
       "      <td>56.233424</td>\n",
       "      <td>96.364235</td>\n",
       "      <td>155.622235</td>\n",
       "    </tr>\n",
       "  </tbody>\n",
       "</table>\n",
       "</div>"
      ],
      "text/plain": [
       "        date  Coquimbo  Valparaiso  Metropolitana_de_Santiago  \\\n",
       "0 1989-02-01  0.719033    0.117045                   0.028272   \n",
       "1 1998-10-01  0.065216    0.000000                   0.011493   \n",
       "2 2001-02-01  2.030026    0.047987                   0.002634   \n",
       "3 2008-11-01  0.622784    0.000000                   0.015872   \n",
       "4 2009-04-01  0.008065    0.000000                   0.009396   \n",
       "\n",
       "   Libertador_Gral__Bernardo_O_Higgins      Maule     Biobio  La_Araucania  \\\n",
       "0                                  0.0   0.724667   9.172945     22.595834   \n",
       "1                                  0.0   0.008968   2.089674     14.702087   \n",
       "2                                  0.0   0.032163  10.768351     29.465057   \n",
       "3                                  0.0   1.734168  25.083557     64.901645   \n",
       "4                                  0.0  12.080715  56.233424     96.364235   \n",
       "\n",
       "     Los_Rios  \n",
       "0   52.268010  \n",
       "1   45.142041  \n",
       "2   65.571098  \n",
       "3  113.093488  \n",
       "4  155.622235  "
      ]
     },
     "execution_count": 221,
     "metadata": {},
     "output_type": "execute_result"
    }
   ],
   "source": [
    "rain.head()"
   ]
  },
  {
   "cell_type": "code",
   "execution_count": 259,
   "id": "93cfd87c",
   "metadata": {},
   "outputs": [],
   "source": [
    "regiones = [\"Coquimbo\",\n",
    "            \"Valparaiso\",\n",
    "            \"Metropolitana_de_Santiago\",\n",
    "            \"Libertador_Gral__Bernardo_O_Higgins\",\n",
    "            \"Maule\",\n",
    "            \"Biobio\",\n",
    "            \"La_Araucania\",\n",
    "            \"Los_Rios\",\n",
    "           ]\n",
    "def precipitaciones_hist(region, inicio, fin):\n",
    "    if region in regiones:\n",
    "        series = rain[[\"date\", region]][(rain[\"date\"] > inicio) & (rain[\"date\"] < fin)]\n",
    "        # Si existe uno o mas datos en las fechas ingresadas, se considera como correcto el input\n",
    "        if series.shape[0] > 1:\n",
    "            series.plot(y=region, x='date')"
   ]
  },
  {
   "cell_type": "markdown",
   "id": "d9c5f611",
   "metadata": {},
   "source": [
    "### 3.b) Usa esta función para graficar las precipitaciones para la Región Libertador General Bernardo O'Higgins y para la Región Metropolitana entre las fechas 2000-01-01 y 2020-01-01. ¿ Qué observas con respecto a estacionalidades y tendencias?"
   ]
  },
  {
   "cell_type": "code",
   "execution_count": 262,
   "id": "a2c1ee17",
   "metadata": {},
   "outputs": [
    {
     "data": {
      "image/png": "[encoded data removed]",
      "text/plain": [
       "<Figure size 432x288 with 1 Axes>"
      ]
     },
     "metadata": {
      "needs_background": "light"
     },
     "output_type": "display_data"
    },
    {
     "data": {
      "image/png": "[encoded data removed]",
      "text/plain": [
       "<Figure size 432x288 with 1 Axes>"
      ]
     },
     "metadata": {
      "needs_background": "light"
     },
     "output_type": "display_data"
    }
   ],
   "source": [
    "precipitaciones_hist(\"Metropolitana_de_Santiago\", \"2000-01-01\", \"2020-01-01\")\n",
    "precipitaciones_hist(\"Libertador_Gral__Bernardo_O_Higgins\", \"2000-01-01\", \"2020-01-01\")"
   ]
  },
  {
   "cell_type": "markdown",
   "id": "1cdc2701",
   "metadata": {},
   "source": [
    "Se observa un comportamiento ciclico de las precipitaciones, en donde en los meses invernales precipita la mayor cantidad de agua del año. Se observa una clara tendencia a la baja en el promedio de precipitaciones."
   ]
  },
  {
   "cell_type": "markdown",
   "id": "6c35eba0",
   "metadata": {},
   "source": [
    "### Crea una función que, para una región, grafique múltiples series de tiempo mensuales de precipitaciones, donde cada serie de tiempo corresponda a un año. La función debe recibir como argumento una lista con los años que queremos graficar (2000, 2005,..) y el nombre de la región. El eje X debe indicar los meses (enero, febrero, etc…). \n",
    "* Usa esta función para graficar las precipitaciones para la Región del Maule durante los años 1982, 1992, 2002, 2012 y 2019.\n",
    "* ¿Qué puedes concluir de estos gráficos?"
   ]
  },
  {
   "cell_type": "code",
   "execution_count": 428,
   "id": "bc0a40a3",
   "metadata": {},
   "outputs": [],
   "source": [
    "# Ordenar Rain por fechas\n",
    "rain = rain.sort_values(\"date\")"
   ]
  },
  {
   "cell_type": "code",
   "execution_count": 429,
   "id": "16ebcfb2",
   "metadata": {},
   "outputs": [],
   "source": [
    "def multiple_year_plot(years, region):\n",
    "    joined = pd.DataFrame({'month': [1, 2, 3, 4, 5, 6, 7, 8, 9, 10, 11, 12]})\n",
    "    \n",
    "    for year in years:\n",
    "        yearStr = str(year)\n",
    "        series = rain[[\"date\", region]][(pd.DatetimeIndex(rain[\"date\"]).year == year)]\n",
    "        series[\"month\"] = pd.DatetimeIndex(series[\"date\"]).month\n",
    "        series = series.rename(columns={region: yearStr})\n",
    "        joined = pd.merge(joined, series[[\"month\", yearStr]], on=\"month\")\n",
    "        plt.plot(joined[\"month\"], joined[yearStr], label = yearStr)\n",
    "        \n",
    "    plt.legend()\n",
    "    plt.show()"
   ]
  },
  {
   "cell_type": "code",
   "execution_count": 430,
   "id": "36e5fe7c",
   "metadata": {},
   "outputs": [
    {
     "data": {
      "image/png": "[encoded data removed]",
      "text/plain": [
       "<Figure size 432x288 with 1 Axes>"
      ]
     },
     "metadata": {
      "needs_background": "light"
     },
     "output_type": "display_data"
    }
   ],
   "source": [
    "multiple_year_plot([1982, 1992, 2002, 2012, 2019], \"Maule\")"
   ]
  },
  {
   "cell_type": "markdown",
   "id": "ecd0b7de",
   "metadata": {},
   "source": [
    "Se puede ver un decrecimiento en los valores máximos de precipitaciones y en los promedios. Es decir, cada vez llueve menos en la región."
   ]
  },
  {
   "cell_type": "markdown",
   "id": "47f49dc7",
   "metadata": {},
   "source": [
    "### Crea una función que permita visualizar dos series históricas de PIB para un rango de fechas determinado. Para esto la función debe recibir como input el nombre de cada serie, fecha de inicio y fecha de término. Grafica las series de tiempo del PIB agropecuario y silvícola y la del PIB de Servicios financieros desde el 2013-01-01 hasta la fecha más reciente en que haya datos.\n",
    "* ¿Qué puedes decir de cada serie en particular?\n",
    "* ¿Hay alguna relación entre estas dos series?"
   ]
  },
  {
   "cell_type": "code",
   "execution_count": 431,
   "id": "0c7a675e",
   "metadata": {},
   "outputs": [
    {
     "data": {
      "text/plain": [
       "Index(['Periodo', 'Imacec_empalmado', 'Imacec_produccion_de_bienes',\n",
       "       'Imacec_minero', 'Imacec_industria', 'Imacec_resto_de_bienes',\n",
       "       'Imacec_comercio', 'Imacec_servicios', 'Imacec_a_costo_de_factores',\n",
       "       'Imacec_no_minero', 'PIB_Agropecuario_silvicola', 'PIB_Pesca',\n",
       "       'PIB_Mineria', 'PIB_Mineria_del_cobre', 'PIB_Otras_actividades_mineras',\n",
       "       'PIB_Industria_Manufacturera', 'PIB_Alimentos', 'PIB_Bebidas_y_tabaco',\n",
       "       'PIB_Textil', 'PIB_Maderas_y_muebles', 'PIB_Celulosa',\n",
       "       'PIB_Refinacion_de_petroleo', 'PIB_Quimica',\n",
       "       'PIB_Minerales_no_metalicos_y_metalica_basica',\n",
       "       'PIB_Productos_metalicos', 'PIB_Electricidad', 'PIB_Construccion',\n",
       "       'PIB_Comercio', 'PIB_Restaurantes_y_hoteles', 'PIB_Transporte',\n",
       "       'PIB_Comunicaciones', 'PIB_Servicios_financieros',\n",
       "       'PIB_Servicios_empresariales', 'PIB_Servicios_de_vivienda',\n",
       "       'PIB_Servicios_personales', 'PIB_Administracion_publica',\n",
       "       'PIB_a_costo_de_factores', 'Impuesto_al_valor_agregado',\n",
       "       'Derechos_de_Importacion', 'PIB',\n",
       "       'Precio_de_la_gasolina_en_EEUU_dolaresm3',\n",
       "       'Precio_de_la_onza_troy_de_oro_dolaresoz',\n",
       "       'Precio_de_la_onza_troy_de_plata_dolaresoz',\n",
       "       'Precio_del_cobre_refinado_BML_dolareslibra',\n",
       "       'Precio_del_diesel_centavos_de_dolargalon',\n",
       "       'Precio_del_gas_natural_dolaresmillon_de_unidades_termicas_britanicas',\n",
       "       'Precio_del_petroleo_Brent_dolaresbarril',\n",
       "       'Precio_del_kerosene_dolaresm3',\n",
       "       'Precio_del_petroleo_WTI_dolaresbarril',\n",
       "       'Precio_del_propano_centavos_de_dolargalon_DTN',\n",
       "       'Tipo_de_cambio_del_dolar_observado_diario', 'Ocupados',\n",
       "       'Ocupacion_en_Agricultura_INE',\n",
       "       'Ocupacion_en_Explotacion_de_minas_y_canteras_INE',\n",
       "       'Ocupacion_en_Industrias_manufactureras_INE',\n",
       "       'Ocupacion_en_Suministro_de_electricidad_INE',\n",
       "       'Ocupacion_en_Actividades_de_servicios_administrativos_y_de_apoyo_INE',\n",
       "       'Ocupacion_en_Actividades_profesionales_INE',\n",
       "       'Ocupacion_en_Actividades_inmobiliarias_INE',\n",
       "       'Ocupacion_en_Actividades_financieras_y_de_seguros_INE',\n",
       "       'Ocupacion_en_Informacion_y_comunicaciones_INE',\n",
       "       'Ocupacion_en_Transporte_y_almacenamiento_INE',\n",
       "       'Ocupacion_en_Actividades_de_alojamiento_y_de_servicio_de_comidas_INE',\n",
       "       'Ocupacion_en_Construccion_INE', 'Ocupacion_en_Comercio_INE',\n",
       "       'Ocupacion_en_Suministro_de_agua_evacuacion_de_aguas_residuales_INE',\n",
       "       'Ocupacion_en_Administracion_publica_y_defensa_INE',\n",
       "       'Ocupacion_en_Enseanza_INE',\n",
       "       'Ocupacion_en_Actividades_de_atencion_de_la_salud_humana_y_de_asistencia_social_INE',\n",
       "       'Ocupacion_en_Actividades_artisticas_INE',\n",
       "       'Ocupacion_en_Otras_actividades_de_servicios_INE',\n",
       "       'Ocupacion_en_Actividades_de_los_hogares_como_empleadores_INE',\n",
       "       'Ocupacion_en_Actividades_de_organizaciones_y_organos_extraterritoriales_INE',\n",
       "       'No_sabe__No_responde_Miles_de_personas',\n",
       "       'Tipo_de_cambio_nominal_multilateral___TCM',\n",
       "       'Indice_de_tipo_de_cambio_real___TCR_promedio_1986_100',\n",
       "       'Indice_de_produccion_industrial',\n",
       "       'Indice_de_produccion_industrial__mineria',\n",
       "       'Indice_de_produccion_industrial_electricidad__gas_y_agua',\n",
       "       'Indice_de_produccion_industrial__manufacturera',\n",
       "       'Generacion_de_energia_electrica_CDEC_GWh',\n",
       "       'Indice_de_ventas_comercio_real_IVCM',\n",
       "       'Indice_de_ventas_comercio_real_no_durables_IVCM',\n",
       "       'Indice_de_ventas_comercio_real_durables_IVCM', 'Ventas_autos_nuevos'],\n",
       "      dtype='object')"
      ]
     },
     "execution_count": 431,
     "metadata": {},
     "output_type": "execute_result"
    }
   ],
   "source": [
    "# Ordenar variables economicas por fechas\n",
    "economy = economy.sort_values(\"Periodo\")\n",
    "economy.columns"
   ]
  },
  {
   "cell_type": "code",
   "execution_count": 334,
   "id": "e7756a62",
   "metadata": {},
   "outputs": [],
   "source": [
    "def two_series_plot(s1, s2, inicio, fin):\n",
    "    series1 = economy[[\"Periodo\", s1]][(economy[\"Periodo\"] > inicio) & (economy[\"Periodo\"] < fin)]\n",
    "    series2 = economy[[\"Periodo\", s2]][(economy[\"Periodo\"] > inicio) & (economy[\"Periodo\"] < fin)]\n",
    "    \n",
    "    plt.plot(series1[\"Periodo\"], series1[s1], label = s1)\n",
    "    plt.plot(series2[\"Periodo\"], series2[s2], label = s2)\n",
    "        \n",
    "    plt.legend()\n",
    "    plt.show()"
   ]
  },
  {
   "cell_type": "code",
   "execution_count": 335,
   "id": "c0100276",
   "metadata": {},
   "outputs": [
    {
     "data": {
      "image/png": "[encoded data removed]",
      "text/plain": [
       "<Figure size 432x288 with 1 Axes>"
      ]
     },
     "metadata": {
      "needs_background": "light"
     },
     "output_type": "display_data"
    }
   ],
   "source": [
    "two_series_plot(\"PIB_Agropecuario_silvicola\", \"PIB_Servicios_financieros\", \"2013-01-01\", \"2022-01-01\")"
   ]
  },
  {
   "cell_type": "markdown",
   "id": "1e7066da",
   "metadata": {},
   "source": [
    "* Sobre la serie agropecuaria silvicola, se observa una comportamiento ciclico estacional, en donde existe un aumento significativo en la temporada de verano, probablemente por el periodo normal de cosecha de frutas y otros cultivos.\n",
    "* Sobre la serie financiera, se mantiene en un crecimiento constante desde el 2013, con algunas fuertes bajas una o dos veces al año\n",
    "* En varios meses donde se encuentra el peak de pib agropecuario, el pib se servicios financieros baja considerablemente, como se puede ver en los veranos-otoños de 2012, 2014, 2016, 2018, 2019 y 2020."
   ]
  },
  {
   "cell_type": "markdown",
   "id": "3b149cb2",
   "metadata": {},
   "source": [
    "# 4. Tratamiento y creación de variables \n",
    "### ¿Cómo podríamos evaluar la correlación entre las distintas series de tiempo y cómo se tienen que correlacionar para entrenar un modelo? ¿Mucha correlación, no correlacionadas, da igual?"
   ]
  },
  {
   "cell_type": "markdown",
   "id": "d76fd154",
   "metadata": {},
   "source": [
    "Se puede calcular la correlación matematica entre los valores de las distintas series de tiempo. Existen varios metodos distintos para calcular correlaciones entre variables. En general se busca una media o alta correlación positiva o negativa entre las variables, para considerar que dos variables son dependientes."
   ]
  },
  {
   "cell_type": "markdown",
   "id": "3666824f",
   "metadata": {},
   "source": [
    "### Para el entrenamiento del modelo, queremos predecir el precio de la leche para el productor en Chile. Para eso, descarga el archivo precio_leche.csv y haz un merge con las bases de datos de precipitaciones y datos del Banco Central.\n",
    "* Este archivo tiene una columna de año, mes y precio_leche (que corresponde al precio nominal, sin IVA, en pesos chilenos por litro), por lo que vas a tener que crear la columna de fecha que calce con la de las otras bases."
   ]
  },
  {
   "cell_type": "code",
   "execution_count": 432,
   "id": "6b1c8047",
   "metadata": {},
   "outputs": [],
   "source": [
    "milk = pd.read_csv(\"data/precio_leche.csv\")"
   ]
  },
  {
   "cell_type": "code",
   "execution_count": 433,
   "id": "bd413b85",
   "metadata": {},
   "outputs": [],
   "source": [
    "def mes_to_month(x):\n",
    "    if x == \"Ene\":\n",
    "        return \"01\"\n",
    "    if x == \"Feb\":\n",
    "        return \"02\"\n",
    "    if x == \"Mar\":\n",
    "        return \"03\"\n",
    "    if x == \"Abr\":\n",
    "        return \"04\"\n",
    "    if x == \"May\":\n",
    "        return \"05\"\n",
    "    if x == \"Jun\":\n",
    "        return \"06\"\n",
    "    if x == \"Jul\":\n",
    "        return \"07\"\n",
    "    if x == \"Ago\":\n",
    "        return \"08\"\n",
    "    if x == \"Sep\":\n",
    "        return \"09\"\n",
    "    if x == \"Oct\":\n",
    "        return \"10\"\n",
    "    if x == \"Nov\":\n",
    "        return \"11\"\n",
    "    if x == \"Dic\":\n",
    "        return \"12\"\n",
    "    else:\n",
    "        print(\"Error en mes!\")"
   ]
  },
  {
   "cell_type": "code",
   "execution_count": 434,
   "id": "a081098d",
   "metadata": {},
   "outputs": [
    {
     "data": {
      "text/html": [
       "<div>\n",
       "<style scoped>\n",
       "    .dataframe tbody tr th:only-of-type {\n",
       "        vertical-align: middle;\n",
       "    }\n",
       "\n",
       "    .dataframe tbody tr th {\n",
       "        vertical-align: top;\n",
       "    }\n",
       "\n",
       "    .dataframe thead th {\n",
       "        text-align: right;\n",
       "    }\n",
       "</style>\n",
       "<table border=\"1\" class=\"dataframe\">\n",
       "  <thead>\n",
       "    <tr style=\"text-align: right;\">\n",
       "      <th></th>\n",
       "      <th>Anio</th>\n",
       "      <th>Mes</th>\n",
       "      <th>Precio_leche</th>\n",
       "      <th>Anio_str</th>\n",
       "      <th>month</th>\n",
       "      <th>date</th>\n",
       "    </tr>\n",
       "  </thead>\n",
       "  <tbody>\n",
       "    <tr>\n",
       "      <th>0</th>\n",
       "      <td>1979</td>\n",
       "      <td>Ene</td>\n",
       "      <td>3.85</td>\n",
       "      <td>1979</td>\n",
       "      <td>01</td>\n",
       "      <td>1979-01-01</td>\n",
       "    </tr>\n",
       "    <tr>\n",
       "      <th>1</th>\n",
       "      <td>1979</td>\n",
       "      <td>Feb</td>\n",
       "      <td>4.58</td>\n",
       "      <td>1979</td>\n",
       "      <td>02</td>\n",
       "      <td>1979-02-01</td>\n",
       "    </tr>\n",
       "    <tr>\n",
       "      <th>2</th>\n",
       "      <td>1979</td>\n",
       "      <td>Mar</td>\n",
       "      <td>5.18</td>\n",
       "      <td>1979</td>\n",
       "      <td>03</td>\n",
       "      <td>1979-03-01</td>\n",
       "    </tr>\n",
       "    <tr>\n",
       "      <th>3</th>\n",
       "      <td>1979</td>\n",
       "      <td>Abr</td>\n",
       "      <td>6.06</td>\n",
       "      <td>1979</td>\n",
       "      <td>04</td>\n",
       "      <td>1979-04-01</td>\n",
       "    </tr>\n",
       "    <tr>\n",
       "      <th>4</th>\n",
       "      <td>1979</td>\n",
       "      <td>May</td>\n",
       "      <td>7.25</td>\n",
       "      <td>1979</td>\n",
       "      <td>05</td>\n",
       "      <td>1979-05-01</td>\n",
       "    </tr>\n",
       "  </tbody>\n",
       "</table>\n",
       "</div>"
      ],
      "text/plain": [
       "   Anio  Mes  Precio_leche Anio_str month       date\n",
       "0  1979  Ene          3.85     1979    01 1979-01-01\n",
       "1  1979  Feb          4.58     1979    02 1979-02-01\n",
       "2  1979  Mar          5.18     1979    03 1979-03-01\n",
       "3  1979  Abr          6.06     1979    04 1979-04-01\n",
       "4  1979  May          7.25     1979    05 1979-05-01"
      ]
     },
     "execution_count": 434,
     "metadata": {},
     "output_type": "execute_result"
    }
   ],
   "source": [
    "milk[\"Anio_str\"] = milk[\"Anio\"].apply(lambda x: str(x))\n",
    "milk[\"month\"] = milk[\"Mes\"].apply(lambda x: mes_to_month(x))\n",
    "result = milk['Anio_str'] + milk['Mes']\n",
    "result.head()\n",
    "\n",
    "milk[\"Anio_str\"] = milk[\"Anio\"].apply(lambda x: str(x))\n",
    "milk[\"month\"] = milk[\"Mes\"].apply(lambda x: mes_to_month(x))\n",
    "milk[\"date\"] = milk[\"Anio_str\"] + \"-\" + milk[\"month\"] + \"-01\"\n",
    "milk[\"date\"] =  pd.to_datetime(milk['date'], format='%Y-%m-%d')\n",
    "milk.head()"
   ]
  },
  {
   "cell_type": "code",
   "execution_count": 435,
   "id": "9198612e",
   "metadata": {},
   "outputs": [
    {
     "data": {
      "text/html": [
       "<div>\n",
       "<style scoped>\n",
       "    .dataframe tbody tr th:only-of-type {\n",
       "        vertical-align: middle;\n",
       "    }\n",
       "\n",
       "    .dataframe tbody tr th {\n",
       "        vertical-align: top;\n",
       "    }\n",
       "\n",
       "    .dataframe thead th {\n",
       "        text-align: right;\n",
       "    }\n",
       "</style>\n",
       "<table border=\"1\" class=\"dataframe\">\n",
       "  <thead>\n",
       "    <tr style=\"text-align: right;\">\n",
       "      <th></th>\n",
       "      <th>Precio_leche</th>\n",
       "      <th>date</th>\n",
       "    </tr>\n",
       "  </thead>\n",
       "  <tbody>\n",
       "    <tr>\n",
       "      <th>0</th>\n",
       "      <td>3.85</td>\n",
       "      <td>1979-01-01</td>\n",
       "    </tr>\n",
       "    <tr>\n",
       "      <th>1</th>\n",
       "      <td>4.58</td>\n",
       "      <td>1979-02-01</td>\n",
       "    </tr>\n",
       "    <tr>\n",
       "      <th>2</th>\n",
       "      <td>5.18</td>\n",
       "      <td>1979-03-01</td>\n",
       "    </tr>\n",
       "    <tr>\n",
       "      <th>3</th>\n",
       "      <td>6.06</td>\n",
       "      <td>1979-04-01</td>\n",
       "    </tr>\n",
       "    <tr>\n",
       "      <th>4</th>\n",
       "      <td>7.25</td>\n",
       "      <td>1979-05-01</td>\n",
       "    </tr>\n",
       "  </tbody>\n",
       "</table>\n",
       "</div>"
      ],
      "text/plain": [
       "   Precio_leche       date\n",
       "0          3.85 1979-01-01\n",
       "1          4.58 1979-02-01\n",
       "2          5.18 1979-03-01\n",
       "3          6.06 1979-04-01\n",
       "4          7.25 1979-05-01"
      ]
     },
     "execution_count": 435,
     "metadata": {},
     "output_type": "execute_result"
    }
   ],
   "source": [
    "milk = milk.drop(['Anio', 'Mes', 'Anio_str', 'month'], axis=1)\n",
    "milk.head()"
   ]
  },
  {
   "cell_type": "code",
   "execution_count": 436,
   "id": "5e5903af",
   "metadata": {},
   "outputs": [
    {
     "data": {
      "text/plain": [
       "Index(['date', 'Imacec_empalmado', 'Imacec_produccion_de_bienes',\n",
       "       'Imacec_minero', 'Imacec_industria', 'Imacec_resto_de_bienes',\n",
       "       'Imacec_comercio', 'Imacec_servicios', 'Imacec_a_costo_de_factores',\n",
       "       'Imacec_no_minero', 'PIB_Agropecuario_silvicola', 'PIB_Pesca',\n",
       "       'PIB_Mineria', 'PIB_Mineria_del_cobre', 'PIB_Otras_actividades_mineras',\n",
       "       'PIB_Industria_Manufacturera', 'PIB_Alimentos', 'PIB_Bebidas_y_tabaco',\n",
       "       'PIB_Textil', 'PIB_Maderas_y_muebles', 'PIB_Celulosa',\n",
       "       'PIB_Refinacion_de_petroleo', 'PIB_Quimica',\n",
       "       'PIB_Minerales_no_metalicos_y_metalica_basica',\n",
       "       'PIB_Productos_metalicos', 'PIB_Electricidad', 'PIB_Construccion',\n",
       "       'PIB_Comercio', 'PIB_Restaurantes_y_hoteles', 'PIB_Transporte',\n",
       "       'PIB_Comunicaciones', 'PIB_Servicios_financieros',\n",
       "       'PIB_Servicios_empresariales', 'PIB_Servicios_de_vivienda',\n",
       "       'PIB_Servicios_personales', 'PIB_Administracion_publica',\n",
       "       'PIB_a_costo_de_factores', 'Impuesto_al_valor_agregado',\n",
       "       'Derechos_de_Importacion', 'PIB',\n",
       "       'Precio_de_la_gasolina_en_EEUU_dolaresm3',\n",
       "       'Precio_de_la_onza_troy_de_oro_dolaresoz',\n",
       "       'Precio_de_la_onza_troy_de_plata_dolaresoz',\n",
       "       'Precio_del_cobre_refinado_BML_dolareslibra',\n",
       "       'Precio_del_diesel_centavos_de_dolargalon',\n",
       "       'Precio_del_gas_natural_dolaresmillon_de_unidades_termicas_britanicas',\n",
       "       'Precio_del_petroleo_Brent_dolaresbarril',\n",
       "       'Precio_del_kerosene_dolaresm3',\n",
       "       'Precio_del_petroleo_WTI_dolaresbarril',\n",
       "       'Precio_del_propano_centavos_de_dolargalon_DTN',\n",
       "       'Tipo_de_cambio_del_dolar_observado_diario', 'Ocupados',\n",
       "       'Ocupacion_en_Agricultura_INE',\n",
       "       'Ocupacion_en_Explotacion_de_minas_y_canteras_INE',\n",
       "       'Ocupacion_en_Industrias_manufactureras_INE',\n",
       "       'Ocupacion_en_Suministro_de_electricidad_INE',\n",
       "       'Ocupacion_en_Actividades_de_servicios_administrativos_y_de_apoyo_INE',\n",
       "       'Ocupacion_en_Actividades_profesionales_INE',\n",
       "       'Ocupacion_en_Actividades_inmobiliarias_INE',\n",
       "       'Ocupacion_en_Actividades_financieras_y_de_seguros_INE',\n",
       "       'Ocupacion_en_Informacion_y_comunicaciones_INE',\n",
       "       'Ocupacion_en_Transporte_y_almacenamiento_INE',\n",
       "       'Ocupacion_en_Actividades_de_alojamiento_y_de_servicio_de_comidas_INE',\n",
       "       'Ocupacion_en_Construccion_INE', 'Ocupacion_en_Comercio_INE',\n",
       "       'Ocupacion_en_Suministro_de_agua_evacuacion_de_aguas_residuales_INE',\n",
       "       'Ocupacion_en_Administracion_publica_y_defensa_INE',\n",
       "       'Ocupacion_en_Enseanza_INE',\n",
       "       'Ocupacion_en_Actividades_de_atencion_de_la_salud_humana_y_de_asistencia_social_INE',\n",
       "       'Ocupacion_en_Actividades_artisticas_INE',\n",
       "       'Ocupacion_en_Otras_actividades_de_servicios_INE',\n",
       "       'Ocupacion_en_Actividades_de_los_hogares_como_empleadores_INE',\n",
       "       'Ocupacion_en_Actividades_de_organizaciones_y_organos_extraterritoriales_INE',\n",
       "       'No_sabe__No_responde_Miles_de_personas',\n",
       "       'Tipo_de_cambio_nominal_multilateral___TCM',\n",
       "       'Indice_de_tipo_de_cambio_real___TCR_promedio_1986_100',\n",
       "       'Indice_de_produccion_industrial',\n",
       "       'Indice_de_produccion_industrial__mineria',\n",
       "       'Indice_de_produccion_industrial_electricidad__gas_y_agua',\n",
       "       'Indice_de_produccion_industrial__manufacturera',\n",
       "       'Generacion_de_energia_electrica_CDEC_GWh',\n",
       "       'Indice_de_ventas_comercio_real_IVCM',\n",
       "       'Indice_de_ventas_comercio_real_no_durables_IVCM',\n",
       "       'Indice_de_ventas_comercio_real_durables_IVCM', 'Ventas_autos_nuevos'],\n",
       "      dtype='object')"
      ]
     },
     "execution_count": 436,
     "metadata": {},
     "output_type": "execute_result"
    }
   ],
   "source": [
    "economy = economy.rename(columns={\"Periodo\": \"date\"})\n",
    "economy.columns"
   ]
  },
  {
   "cell_type": "code",
   "execution_count": 441,
   "id": "8fff99f8",
   "metadata": {},
   "outputs": [
    {
     "data": {
      "text/plain": [
       "Index(['date', 'Coquimbo', 'Valparaiso', 'Metropolitana_de_Santiago',\n",
       "       'Libertador_Gral__Bernardo_O_Higgins', 'Maule', 'Biobio',\n",
       "       'La_Araucania', 'Los_Rios'],\n",
       "      dtype='object')"
      ]
     },
     "execution_count": 441,
     "metadata": {},
     "output_type": "execute_result"
    }
   ],
   "source": [
    "rain.columns"
   ]
  },
  {
   "cell_type": "code",
   "execution_count": 439,
   "id": "3cb7d347",
   "metadata": {},
   "outputs": [
    {
     "data": {
      "text/html": [
       "<div>\n",
       "<style scoped>\n",
       "    .dataframe tbody tr th:only-of-type {\n",
       "        vertical-align: middle;\n",
       "    }\n",
       "\n",
       "    .dataframe tbody tr th {\n",
       "        vertical-align: top;\n",
       "    }\n",
       "\n",
       "    .dataframe thead th {\n",
       "        text-align: right;\n",
       "    }\n",
       "</style>\n",
       "<table border=\"1\" class=\"dataframe\">\n",
       "  <thead>\n",
       "    <tr style=\"text-align: right;\">\n",
       "      <th></th>\n",
       "      <th>date</th>\n",
       "      <th>Imacec_empalmado</th>\n",
       "      <th>Imacec_produccion_de_bienes</th>\n",
       "      <th>Imacec_minero</th>\n",
       "      <th>Imacec_industria</th>\n",
       "      <th>Imacec_resto_de_bienes</th>\n",
       "      <th>Imacec_comercio</th>\n",
       "      <th>Imacec_servicios</th>\n",
       "      <th>Imacec_a_costo_de_factores</th>\n",
       "      <th>Imacec_no_minero</th>\n",
       "      <th>...</th>\n",
       "      <th>Indice_de_tipo_de_cambio_real___TCR_promedio_1986_100</th>\n",
       "      <th>Indice_de_produccion_industrial</th>\n",
       "      <th>Indice_de_produccion_industrial__mineria</th>\n",
       "      <th>Indice_de_produccion_industrial_electricidad__gas_y_agua</th>\n",
       "      <th>Indice_de_produccion_industrial__manufacturera</th>\n",
       "      <th>Generacion_de_energia_electrica_CDEC_GWh</th>\n",
       "      <th>Indice_de_ventas_comercio_real_IVCM</th>\n",
       "      <th>Indice_de_ventas_comercio_real_no_durables_IVCM</th>\n",
       "      <th>Indice_de_ventas_comercio_real_durables_IVCM</th>\n",
       "      <th>Ventas_autos_nuevos</th>\n",
       "    </tr>\n",
       "  </thead>\n",
       "  <tbody>\n",
       "    <tr>\n",
       "      <th>546</th>\n",
       "      <td>2003-05-01</td>\n",
       "      <td>638738093.0</td>\n",
       "      <td>772528284.0</td>\n",
       "      <td>96947158.0</td>\n",
       "      <td>768981947.0</td>\n",
       "      <td>610333255.0</td>\n",
       "      <td>458972457.0</td>\n",
       "      <td>597628213.0</td>\n",
       "      <td>654868522.0</td>\n",
       "      <td>595354682.0</td>\n",
       "      <td>...</td>\n",
       "      <td>106493039.0</td>\n",
       "      <td>NaN</td>\n",
       "      <td>813267858.0</td>\n",
       "      <td>NaN</td>\n",
       "      <td>755779172.0</td>\n",
       "      <td>37899406.0</td>\n",
       "      <td>NaN</td>\n",
       "      <td>NaN</td>\n",
       "      <td>NaN</td>\n",
       "      <td>NaN</td>\n",
       "    </tr>\n",
       "    <tr>\n",
       "      <th>547</th>\n",
       "      <td>2003-06-01</td>\n",
       "      <td>624746984.0</td>\n",
       "      <td>738367483.0</td>\n",
       "      <td>989538172.0</td>\n",
       "      <td>730850363.0</td>\n",
       "      <td>565038482.0</td>\n",
       "      <td>43454941.0</td>\n",
       "      <td>597755276.0</td>\n",
       "      <td>640695912.0</td>\n",
       "      <td>580509068.0</td>\n",
       "      <td>...</td>\n",
       "      <td>108379938.0</td>\n",
       "      <td>NaN</td>\n",
       "      <td>839475886.0</td>\n",
       "      <td>NaN</td>\n",
       "      <td>738219916.0</td>\n",
       "      <td>370635622.0</td>\n",
       "      <td>NaN</td>\n",
       "      <td>NaN</td>\n",
       "      <td>NaN</td>\n",
       "      <td>NaN</td>\n",
       "    </tr>\n",
       "    <tr>\n",
       "      <th>548</th>\n",
       "      <td>2003-07-01</td>\n",
       "      <td>610097033.0</td>\n",
       "      <td>748750449.0</td>\n",
       "      <td>100781887.0</td>\n",
       "      <td>760479368.0</td>\n",
       "      <td>547965229.0</td>\n",
       "      <td>430570947.0</td>\n",
       "      <td>560772704.0</td>\n",
       "      <td>622290279.0</td>\n",
       "      <td>565083704.0</td>\n",
       "      <td>...</td>\n",
       "      <td>106847781.0</td>\n",
       "      <td>NaN</td>\n",
       "      <td>851760899.0</td>\n",
       "      <td>NaN</td>\n",
       "      <td>780654724.0</td>\n",
       "      <td>389794153.0</td>\n",
       "      <td>NaN</td>\n",
       "      <td>NaN</td>\n",
       "      <td>NaN</td>\n",
       "      <td>NaN</td>\n",
       "    </tr>\n",
       "    <tr>\n",
       "      <th>549</th>\n",
       "      <td>2003-08-01</td>\n",
       "      <td>613857271.0</td>\n",
       "      <td>706808702.0</td>\n",
       "      <td>899979996.0</td>\n",
       "      <td>7334262.0</td>\n",
       "      <td>517492661.0</td>\n",
       "      <td>423220975.0</td>\n",
       "      <td>59531186.0</td>\n",
       "      <td>627531297.0</td>\n",
       "      <td>573550187.0</td>\n",
       "      <td>...</td>\n",
       "      <td>105997218.0</td>\n",
       "      <td>NaN</td>\n",
       "      <td>792792837.0</td>\n",
       "      <td>NaN</td>\n",
       "      <td>769680196.0</td>\n",
       "      <td>379246493.0</td>\n",
       "      <td>NaN</td>\n",
       "      <td>NaN</td>\n",
       "      <td>NaN</td>\n",
       "      <td>NaN</td>\n",
       "    </tr>\n",
       "    <tr>\n",
       "      <th>550</th>\n",
       "      <td>2003-09-01</td>\n",
       "      <td>601932775.0</td>\n",
       "      <td>687746887.0</td>\n",
       "      <td>938063009.0</td>\n",
       "      <td>701432855.0</td>\n",
       "      <td>495224445.0</td>\n",
       "      <td>42377516.0</td>\n",
       "      <td>580878325.0</td>\n",
       "      <td>613037551.0</td>\n",
       "      <td>559980619.0</td>\n",
       "      <td>...</td>\n",
       "      <td>102298444.0</td>\n",
       "      <td>NaN</td>\n",
       "      <td>798525843.0</td>\n",
       "      <td>NaN</td>\n",
       "      <td>734561741.0</td>\n",
       "      <td>362298612.0</td>\n",
       "      <td>NaN</td>\n",
       "      <td>NaN</td>\n",
       "      <td>NaN</td>\n",
       "      <td>NaN</td>\n",
       "    </tr>\n",
       "  </tbody>\n",
       "</table>\n",
       "<p>5 rows × 85 columns</p>\n",
       "</div>"
      ],
      "text/plain": [
       "          date  Imacec_empalmado  Imacec_produccion_de_bienes  Imacec_minero  \\\n",
       "546 2003-05-01       638738093.0                  772528284.0     96947158.0   \n",
       "547 2003-06-01       624746984.0                  738367483.0    989538172.0   \n",
       "548 2003-07-01       610097033.0                  748750449.0    100781887.0   \n",
       "549 2003-08-01       613857271.0                  706808702.0    899979996.0   \n",
       "550 2003-09-01       601932775.0                  687746887.0    938063009.0   \n",
       "\n",
       "     Imacec_industria  Imacec_resto_de_bienes  Imacec_comercio  \\\n",
       "546       768981947.0             610333255.0      458972457.0   \n",
       "547       730850363.0             565038482.0       43454941.0   \n",
       "548       760479368.0             547965229.0      430570947.0   \n",
       "549         7334262.0             517492661.0      423220975.0   \n",
       "550       701432855.0             495224445.0       42377516.0   \n",
       "\n",
       "     Imacec_servicios  Imacec_a_costo_de_factores  Imacec_no_minero  ...  \\\n",
       "546       597628213.0                 654868522.0       595354682.0  ...   \n",
       "547       597755276.0                 640695912.0       580509068.0  ...   \n",
       "548       560772704.0                 622290279.0       565083704.0  ...   \n",
       "549        59531186.0                 627531297.0       573550187.0  ...   \n",
       "550       580878325.0                 613037551.0       559980619.0  ...   \n",
       "\n",
       "     Indice_de_tipo_de_cambio_real___TCR_promedio_1986_100  \\\n",
       "546                                        106493039.0       \n",
       "547                                        108379938.0       \n",
       "548                                        106847781.0       \n",
       "549                                        105997218.0       \n",
       "550                                        102298444.0       \n",
       "\n",
       "     Indice_de_produccion_industrial  \\\n",
       "546                              NaN   \n",
       "547                              NaN   \n",
       "548                              NaN   \n",
       "549                              NaN   \n",
       "550                              NaN   \n",
       "\n",
       "     Indice_de_produccion_industrial__mineria  \\\n",
       "546                               813267858.0   \n",
       "547                               839475886.0   \n",
       "548                               851760899.0   \n",
       "549                               792792837.0   \n",
       "550                               798525843.0   \n",
       "\n",
       "     Indice_de_produccion_industrial_electricidad__gas_y_agua  \\\n",
       "546                                                NaN          \n",
       "547                                                NaN          \n",
       "548                                                NaN          \n",
       "549                                                NaN          \n",
       "550                                                NaN          \n",
       "\n",
       "     Indice_de_produccion_industrial__manufacturera  \\\n",
       "546                                     755779172.0   \n",
       "547                                     738219916.0   \n",
       "548                                     780654724.0   \n",
       "549                                     769680196.0   \n",
       "550                                     734561741.0   \n",
       "\n",
       "     Generacion_de_energia_electrica_CDEC_GWh  \\\n",
       "546                                37899406.0   \n",
       "547                               370635622.0   \n",
       "548                               389794153.0   \n",
       "549                               379246493.0   \n",
       "550                               362298612.0   \n",
       "\n",
       "     Indice_de_ventas_comercio_real_IVCM  \\\n",
       "546                                  NaN   \n",
       "547                                  NaN   \n",
       "548                                  NaN   \n",
       "549                                  NaN   \n",
       "550                                  NaN   \n",
       "\n",
       "     Indice_de_ventas_comercio_real_no_durables_IVCM  \\\n",
       "546                                              NaN   \n",
       "547                                              NaN   \n",
       "548                                              NaN   \n",
       "549                                              NaN   \n",
       "550                                              NaN   \n",
       "\n",
       "     Indice_de_ventas_comercio_real_durables_IVCM  Ventas_autos_nuevos  \n",
       "546                                           NaN                  NaN  \n",
       "547                                           NaN                  NaN  \n",
       "548                                           NaN                  NaN  \n",
       "549                                           NaN                  NaN  \n",
       "550                                           NaN                  NaN  \n",
       "\n",
       "[5 rows x 85 columns]"
      ]
     },
     "execution_count": 439,
     "metadata": {},
     "output_type": "execute_result"
    }
   ],
   "source": [
    "economy[400:500].head()"
   ]
  },
  {
   "cell_type": "code",
   "execution_count": 442,
   "id": "de2f09a0",
   "metadata": {},
   "outputs": [
    {
     "data": {
      "text/html": [
       "<div>\n",
       "<style scoped>\n",
       "    .dataframe tbody tr th:only-of-type {\n",
       "        vertical-align: middle;\n",
       "    }\n",
       "\n",
       "    .dataframe tbody tr th {\n",
       "        vertical-align: top;\n",
       "    }\n",
       "\n",
       "    .dataframe thead th {\n",
       "        text-align: right;\n",
       "    }\n",
       "</style>\n",
       "<table border=\"1\" class=\"dataframe\">\n",
       "  <thead>\n",
       "    <tr style=\"text-align: right;\">\n",
       "      <th></th>\n",
       "      <th>Precio_leche</th>\n",
       "      <th>date</th>\n",
       "      <th>Imacec_empalmado</th>\n",
       "      <th>Imacec_produccion_de_bienes</th>\n",
       "      <th>Imacec_minero</th>\n",
       "      <th>Imacec_industria</th>\n",
       "      <th>Imacec_resto_de_bienes</th>\n",
       "      <th>Imacec_comercio</th>\n",
       "      <th>Imacec_servicios</th>\n",
       "      <th>Imacec_a_costo_de_factores</th>\n",
       "      <th>...</th>\n",
       "      <th>Indice_de_ventas_comercio_real_durables_IVCM</th>\n",
       "      <th>Ventas_autos_nuevos</th>\n",
       "      <th>Coquimbo</th>\n",
       "      <th>Valparaiso</th>\n",
       "      <th>Metropolitana_de_Santiago</th>\n",
       "      <th>Libertador_Gral__Bernardo_O_Higgins</th>\n",
       "      <th>Maule</th>\n",
       "      <th>Biobio</th>\n",
       "      <th>La_Araucania</th>\n",
       "      <th>Los_Rios</th>\n",
       "    </tr>\n",
       "  </thead>\n",
       "  <tbody>\n",
       "    <tr>\n",
       "      <th>0</th>\n",
       "      <td>3.85</td>\n",
       "      <td>1979-01-01</td>\n",
       "      <td>NaN</td>\n",
       "      <td>NaN</td>\n",
       "      <td>NaN</td>\n",
       "      <td>NaN</td>\n",
       "      <td>NaN</td>\n",
       "      <td>NaN</td>\n",
       "      <td>NaN</td>\n",
       "      <td>NaN</td>\n",
       "      <td>...</td>\n",
       "      <td>NaN</td>\n",
       "      <td>NaN</td>\n",
       "      <td>2.641948</td>\n",
       "      <td>0.587062</td>\n",
       "      <td>2.447114</td>\n",
       "      <td>1.608992</td>\n",
       "      <td>3.736215</td>\n",
       "      <td>17.859634</td>\n",
       "      <td>25.212940</td>\n",
       "      <td>45.596447</td>\n",
       "    </tr>\n",
       "    <tr>\n",
       "      <th>1</th>\n",
       "      <td>4.58</td>\n",
       "      <td>1979-02-01</td>\n",
       "      <td>NaN</td>\n",
       "      <td>NaN</td>\n",
       "      <td>NaN</td>\n",
       "      <td>NaN</td>\n",
       "      <td>NaN</td>\n",
       "      <td>NaN</td>\n",
       "      <td>NaN</td>\n",
       "      <td>NaN</td>\n",
       "      <td>...</td>\n",
       "      <td>NaN</td>\n",
       "      <td>NaN</td>\n",
       "      <td>1.179804</td>\n",
       "      <td>2.432192</td>\n",
       "      <td>3.997852</td>\n",
       "      <td>4.346310</td>\n",
       "      <td>16.347637</td>\n",
       "      <td>17.680612</td>\n",
       "      <td>18.085072</td>\n",
       "      <td>34.075039</td>\n",
       "    </tr>\n",
       "    <tr>\n",
       "      <th>2</th>\n",
       "      <td>5.18</td>\n",
       "      <td>1979-03-01</td>\n",
       "      <td>NaN</td>\n",
       "      <td>NaN</td>\n",
       "      <td>NaN</td>\n",
       "      <td>NaN</td>\n",
       "      <td>NaN</td>\n",
       "      <td>NaN</td>\n",
       "      <td>NaN</td>\n",
       "      <td>NaN</td>\n",
       "      <td>...</td>\n",
       "      <td>NaN</td>\n",
       "      <td>NaN</td>\n",
       "      <td>0.255490</td>\n",
       "      <td>0.020601</td>\n",
       "      <td>0.000000</td>\n",
       "      <td>0.055488</td>\n",
       "      <td>0.545324</td>\n",
       "      <td>14.435698</td>\n",
       "      <td>28.696504</td>\n",
       "      <td>66.232248</td>\n",
       "    </tr>\n",
       "    <tr>\n",
       "      <th>3</th>\n",
       "      <td>6.06</td>\n",
       "      <td>1979-04-01</td>\n",
       "      <td>NaN</td>\n",
       "      <td>NaN</td>\n",
       "      <td>NaN</td>\n",
       "      <td>NaN</td>\n",
       "      <td>NaN</td>\n",
       "      <td>NaN</td>\n",
       "      <td>NaN</td>\n",
       "      <td>NaN</td>\n",
       "      <td>...</td>\n",
       "      <td>NaN</td>\n",
       "      <td>NaN</td>\n",
       "      <td>10.173699</td>\n",
       "      <td>11.745779</td>\n",
       "      <td>13.722349</td>\n",
       "      <td>12.989194</td>\n",
       "      <td>21.880607</td>\n",
       "      <td>39.136483</td>\n",
       "      <td>43.617921</td>\n",
       "      <td>73.548127</td>\n",
       "    </tr>\n",
       "    <tr>\n",
       "      <th>4</th>\n",
       "      <td>7.25</td>\n",
       "      <td>1979-05-01</td>\n",
       "      <td>NaN</td>\n",
       "      <td>NaN</td>\n",
       "      <td>NaN</td>\n",
       "      <td>NaN</td>\n",
       "      <td>NaN</td>\n",
       "      <td>NaN</td>\n",
       "      <td>NaN</td>\n",
       "      <td>NaN</td>\n",
       "      <td>...</td>\n",
       "      <td>NaN</td>\n",
       "      <td>NaN</td>\n",
       "      <td>1.039098</td>\n",
       "      <td>18.609286</td>\n",
       "      <td>50.187148</td>\n",
       "      <td>104.451550</td>\n",
       "      <td>143.914334</td>\n",
       "      <td>219.729235</td>\n",
       "      <td>279.409718</td>\n",
       "      <td>438.005116</td>\n",
       "    </tr>\n",
       "  </tbody>\n",
       "</table>\n",
       "<p>5 rows × 94 columns</p>\n",
       "</div>"
      ],
      "text/plain": [
       "   Precio_leche       date  Imacec_empalmado  Imacec_produccion_de_bienes  \\\n",
       "0          3.85 1979-01-01               NaN                          NaN   \n",
       "1          4.58 1979-02-01               NaN                          NaN   \n",
       "2          5.18 1979-03-01               NaN                          NaN   \n",
       "3          6.06 1979-04-01               NaN                          NaN   \n",
       "4          7.25 1979-05-01               NaN                          NaN   \n",
       "\n",
       "   Imacec_minero  Imacec_industria  Imacec_resto_de_bienes  Imacec_comercio  \\\n",
       "0            NaN               NaN                     NaN              NaN   \n",
       "1            NaN               NaN                     NaN              NaN   \n",
       "2            NaN               NaN                     NaN              NaN   \n",
       "3            NaN               NaN                     NaN              NaN   \n",
       "4            NaN               NaN                     NaN              NaN   \n",
       "\n",
       "   Imacec_servicios  Imacec_a_costo_de_factores  ...  \\\n",
       "0               NaN                         NaN  ...   \n",
       "1               NaN                         NaN  ...   \n",
       "2               NaN                         NaN  ...   \n",
       "3               NaN                         NaN  ...   \n",
       "4               NaN                         NaN  ...   \n",
       "\n",
       "   Indice_de_ventas_comercio_real_durables_IVCM  Ventas_autos_nuevos  \\\n",
       "0                                           NaN                  NaN   \n",
       "1                                           NaN                  NaN   \n",
       "2                                           NaN                  NaN   \n",
       "3                                           NaN                  NaN   \n",
       "4                                           NaN                  NaN   \n",
       "\n",
       "    Coquimbo  Valparaiso  Metropolitana_de_Santiago  \\\n",
       "0   2.641948    0.587062                   2.447114   \n",
       "1   1.179804    2.432192                   3.997852   \n",
       "2   0.255490    0.020601                   0.000000   \n",
       "3  10.173699   11.745779                  13.722349   \n",
       "4   1.039098   18.609286                  50.187148   \n",
       "\n",
       "   Libertador_Gral__Bernardo_O_Higgins       Maule      Biobio  La_Araucania  \\\n",
       "0                             1.608992    3.736215   17.859634     25.212940   \n",
       "1                             4.346310   16.347637   17.680612     18.085072   \n",
       "2                             0.055488    0.545324   14.435698     28.696504   \n",
       "3                            12.989194   21.880607   39.136483     43.617921   \n",
       "4                           104.451550  143.914334  219.729235    279.409718   \n",
       "\n",
       "     Los_Rios  \n",
       "0   45.596447  \n",
       "1   34.075039  \n",
       "2   66.232248  \n",
       "3   73.548127  \n",
       "4  438.005116  \n",
       "\n",
       "[5 rows x 94 columns]"
      ]
     },
     "execution_count": 442,
     "metadata": {},
     "output_type": "execute_result"
    }
   ],
   "source": [
    "merge = pd.merge(milk, economy[economy.columns], on=\"date\")\n",
    "merge = pd.merge(merge, rain[rain.columns], on=\"date\")\n",
    "merge.head()"
   ]
  },
  {
   "cell_type": "markdown",
   "id": "0e53de02",
   "metadata": {},
   "source": [
    "### Crea las variables:\n",
    "* A partir de la variable fecha, crea nuevas variables para el año, mes, trimestre.\n",
    "* Lags y estadísticas acumuladas (por ejemplo: promedio, varianza) de las variables que consideres relevantes."
   ]
  },
  {
   "cell_type": "code",
   "execution_count": null,
   "id": "ae9e4426",
   "metadata": {},
   "outputs": [],
   "source": []
  },
  {
   "cell_type": "markdown",
   "id": "47669f87",
   "metadata": {},
   "source": [
    "# 5. Modelo \n",
    "\n",
    "### Entrena un modelo que permita predecir el precio de la leche el próximo mes, en función de los datos entregados.\n",
    "* Si necesitas crear variables adicionales que pueden aportar información al modelo, tienes total libertad."
   ]
  },
  {
   "cell_type": "code",
   "execution_count": null,
   "id": "ff8d4e30",
   "metadata": {},
   "outputs": [],
   "source": []
  },
  {
   "cell_type": "markdown",
   "id": "5df6f919",
   "metadata": {},
   "source": [
    "### ¿Qué datos adicionales te gustaría tener?¿Qué datos son necesarios para que este modelo funcione/mejore las métricas?"
   ]
  },
  {
   "cell_type": "markdown",
   "id": "9f22761a",
   "metadata": {},
   "source": []
  },
  {
   "cell_type": "markdown",
   "id": "d616bfbf",
   "metadata": {},
   "source": [
    "### ¿Cómo evalúas el resultado del modelo?¿Qué métricas tiene sentido mirar?"
   ]
  },
  {
   "cell_type": "code",
   "execution_count": null,
   "id": "4c33c02d",
   "metadata": {},
   "outputs": [],
   "source": []
  },
  {
   "cell_type": "markdown",
   "id": "9f3d4d28",
   "metadata": {},
   "source": [
    "### ¿Para qué aplicaciones puede servir un modelo de este tipo? En particular, ¿Cómo podría ayudar a combatir el cambio climático?"
   ]
  },
  {
   "cell_type": "markdown",
   "id": "bd6538c1",
   "metadata": {},
   "source": [
    "Un modelo de predicción de precio de productos podría ayudar a los consumidores a planificar de mejor forma su consumo de productos. El aumento del consumo de cualquier producto fuera de su \"estación natural\", como es el caso de leche, frutas y algunas verduras, requieren de una mayor cantidad de inversión y trabajo en la producción, y por lo tanto, una mayor cantidad de emisión de CO2. Si el consumo se concentrara en los productos de temporada, mejorarían los precios para los consumidores y este incentivo disminuiría nuestras emisiones para ayudar a combatir el rápido efecto del cambio climatico."
   ]
  }
 ],
 "metadata": {
  "kernelspec": {
   "display_name": "Python 3",
   "language": "python",
   "name": "python3"
  },
  "language_info": {
   "codemirror_mode": {
    "name": "ipython",
    "version": 3
   },
   "file_extension": ".py",
   "mimetype": "text/x-python",
   "name": "python",
   "nbconvert_exporter": "python",
   "pygments_lexer": "ipython3",
   "version": "3.9.2"
  }
 },
 "nbformat": 4,
 "nbformat_minor": 5
}
